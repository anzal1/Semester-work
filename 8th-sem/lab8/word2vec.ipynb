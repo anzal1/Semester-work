{
 "cells": [
  {
   "cell_type": "code",
   "execution_count": 44,
   "metadata": {},
   "outputs": [],
   "source": [
    "# Ignore  the warnings\n",
    "import warnings\n",
    "warnings.filterwarnings('always')\n",
    "warnings.filterwarnings('ignore')\n",
    "\n",
    "# data visualisation and manipulation\n",
    "import numpy as np\n",
    "import pandas as pd\n",
    "\n",
    "\n",
    "#nltk\n",
    "import nltk\n",
    "\n",
    "#preprocessing\n",
    "from nltk.corpus import stopwords  #stopwords\n",
    "from nltk import word_tokenize,sent_tokenize # tokenizing\n",
    "from nltk.stem import PorterStemmer,LancasterStemmer  # using the Porter Stemmer and Lancaster Stemmer and others\n",
    "from nltk.stem.snowball import SnowballStemmer\n",
    "from nltk.stem import WordNetLemmatizer  # lammatizer from WordNet\n",
    "\n",
    "# for part-of-speech tagging\n",
    "from nltk import pos_tag\n",
    "from nltk.corpus import movie_reviews\n",
    "\n",
    "# for named entity recognition (NER)\n",
    "from nltk import ne_chunk\n",
    "\n",
    "# vectorizers for creating the document-term-matrix (DTM)\n",
    "from sklearn.feature_extraction.text import TfidfVectorizer,CountVectorizer\n",
    "\n",
    "# BeautifulSoup libraray\n",
    "from bs4 import BeautifulSoup\n",
    "\n",
    "import re # regex\n",
    "\n",
    "#model_selection\n",
    "from sklearn.model_selection import train_test_split,cross_validate\n",
    "from sklearn.model_selection import KFold\n",
    "from sklearn.model_selection import GridSearchCV\n",
    "\n",
    "#evaluation\n",
    "from sklearn.metrics import accuracy_score,roc_auc_score \n",
    "from sklearn.metrics import classification_report\n",
    "\n",
    "#preprocessing scikit\n",
    "\n",
    "#classifiaction.\n",
    "from sklearn.linear_model import LogisticRegression\n",
    "from sklearn.svm import LinearSVC,SVC\n",
    "from sklearn.neighbors import KNeighborsClassifier\n",
    "from sklearn.ensemble import RandomForestClassifier,GradientBoostingClassifier,AdaBoostClassifier\n",
    "from sklearn.tree import DecisionTreeClassifier\n",
    "from sklearn.naive_bayes import GaussianNB,MultinomialNB\n",
    " \n",
    "#stop-words\n",
    "stop_words=set(nltk.corpus.stopwords.words('english'))\n",
    "\n",
    "#keras\n",
    "from tensorflow import keras\n",
    "from tensorflow.keras.preprocessing.text import one_hot,Tokenizer\n",
    "from tensorflow.keras.preprocessing.sequence import pad_sequences\n",
    "from tensorflow.keras.models import Sequential\n",
    "from tensorflow.keras.layers import Dense , Flatten ,Embedding,Input,LSTM\n",
    "from tensorflow.keras.models import Model\n",
    "from tensorflow.keras.preprocessing.text import text_to_word_sequence\n",
    "\n",
    "#gensim w2v\n",
    "#word2vec\n",
    "from gensim.models import Word2Vec"
   ]
  },
  {
   "cell_type": "code",
   "execution_count": 99,
   "metadata": {},
   "outputs": [],
   "source": [
    "rev_frame=pd.read_csv(r'./imdb.csv')\n",
    "df=rev_frame.copy()\n"
   ]
  },
  {
   "cell_type": "code",
   "execution_count": 46,
   "metadata": {},
   "outputs": [
    {
     "data": {
      "text/html": [
       "<div>\n",
       "<style scoped>\n",
       "    .dataframe tbody tr th:only-of-type {\n",
       "        vertical-align: middle;\n",
       "    }\n",
       "\n",
       "    .dataframe tbody tr th {\n",
       "        vertical-align: top;\n",
       "    }\n",
       "\n",
       "    .dataframe thead th {\n",
       "        text-align: right;\n",
       "    }\n",
       "</style>\n",
       "<table border=\"1\" class=\"dataframe\">\n",
       "  <thead>\n",
       "    <tr style=\"text-align: right;\">\n",
       "      <th></th>\n",
       "      <th>review</th>\n",
       "      <th>sentiment</th>\n",
       "    </tr>\n",
       "  </thead>\n",
       "  <tbody>\n",
       "    <tr>\n",
       "      <th>0</th>\n",
       "      <td>One of the other reviewers has mentioned that ...</td>\n",
       "      <td>positive</td>\n",
       "    </tr>\n",
       "    <tr>\n",
       "      <th>1</th>\n",
       "      <td>A wonderful little production. &lt;br /&gt;&lt;br /&gt;The...</td>\n",
       "      <td>positive</td>\n",
       "    </tr>\n",
       "    <tr>\n",
       "      <th>2</th>\n",
       "      <td>I thought this was a wonderful way to spend ti...</td>\n",
       "      <td>positive</td>\n",
       "    </tr>\n",
       "    <tr>\n",
       "      <th>3</th>\n",
       "      <td>Basically there's a family where a little boy ...</td>\n",
       "      <td>negative</td>\n",
       "    </tr>\n",
       "    <tr>\n",
       "      <th>4</th>\n",
       "      <td>Petter Mattei's \"Love in the Time of Money\" is...</td>\n",
       "      <td>positive</td>\n",
       "    </tr>\n",
       "  </tbody>\n",
       "</table>\n",
       "</div>"
      ],
      "text/plain": [
       "                                              review sentiment\n",
       "0  One of the other reviewers has mentioned that ...  positive\n",
       "1  A wonderful little production. <br /><br />The...  positive\n",
       "2  I thought this was a wonderful way to spend ti...  positive\n",
       "3  Basically there's a family where a little boy ...  negative\n",
       "4  Petter Mattei's \"Love in the Time of Money\" is...  positive"
      ]
     },
     "execution_count": 46,
     "metadata": {},
     "output_type": "execute_result"
    }
   ],
   "source": [
    "df.head()"
   ]
  },
  {
   "cell_type": "code",
   "execution_count": 47,
   "metadata": {},
   "outputs": [
    {
     "data": {
      "text/html": [
       "<div>\n",
       "<style scoped>\n",
       "    .dataframe tbody tr th:only-of-type {\n",
       "        vertical-align: middle;\n",
       "    }\n",
       "\n",
       "    .dataframe tbody tr th {\n",
       "        vertical-align: top;\n",
       "    }\n",
       "\n",
       "    .dataframe thead th {\n",
       "        text-align: right;\n",
       "    }\n",
       "</style>\n",
       "<table border=\"1\" class=\"dataframe\">\n",
       "  <thead>\n",
       "    <tr style=\"text-align: right;\">\n",
       "      <th></th>\n",
       "      <th>review</th>\n",
       "      <th>rating</th>\n",
       "    </tr>\n",
       "  </thead>\n",
       "  <tbody>\n",
       "    <tr>\n",
       "      <th>0</th>\n",
       "      <td>One of the other reviewers has mentioned that ...</td>\n",
       "      <td>1</td>\n",
       "    </tr>\n",
       "    <tr>\n",
       "      <th>1</th>\n",
       "      <td>A wonderful little production. &lt;br /&gt;&lt;br /&gt;The...</td>\n",
       "      <td>1</td>\n",
       "    </tr>\n",
       "    <tr>\n",
       "      <th>2</th>\n",
       "      <td>I thought this was a wonderful way to spend ti...</td>\n",
       "      <td>1</td>\n",
       "    </tr>\n",
       "    <tr>\n",
       "      <th>3</th>\n",
       "      <td>Basically there's a family where a little boy ...</td>\n",
       "      <td>0</td>\n",
       "    </tr>\n",
       "    <tr>\n",
       "      <th>4</th>\n",
       "      <td>Petter Mattei's \"Love in the Time of Money\" is...</td>\n",
       "      <td>1</td>\n",
       "    </tr>\n",
       "  </tbody>\n",
       "</table>\n",
       "</div>"
      ],
      "text/plain": [
       "                                              review  rating\n",
       "0  One of the other reviewers has mentioned that ...       1\n",
       "1  A wonderful little production. <br /><br />The...       1\n",
       "2  I thought this was a wonderful way to spend ti...       1\n",
       "3  Basically there's a family where a little boy ...       0\n",
       "4  Petter Mattei's \"Love in the Time of Money\" is...       1"
      ]
     },
     "execution_count": 47,
     "metadata": {},
     "output_type": "execute_result"
    }
   ],
   "source": [
    "df= df[[\"review\",\"sentiment\"]]\n",
    "df[\"review\"]=df[\"review\"]\n",
    "df[\"rating\"]=df[\"sentiment\"].apply(lambda x: 1 if x==\"positive\" else 0)\n",
    "df.drop(\"sentiment\",axis=1,inplace=True)\n",
    "df.head()"
   ]
  },
  {
   "cell_type": "code",
   "execution_count": 48,
   "metadata": {},
   "outputs": [
    {
     "name": "stdout",
     "output_type": "stream",
     "text": [
      "(299, 2)\n"
     ]
    },
    {
     "data": {
      "text/html": [
       "<div>\n",
       "<style scoped>\n",
       "    .dataframe tbody tr th:only-of-type {\n",
       "        vertical-align: middle;\n",
       "    }\n",
       "\n",
       "    .dataframe tbody tr th {\n",
       "        vertical-align: top;\n",
       "    }\n",
       "\n",
       "    .dataframe thead th {\n",
       "        text-align: right;\n",
       "    }\n",
       "</style>\n",
       "<table border=\"1\" class=\"dataframe\">\n",
       "  <thead>\n",
       "    <tr style=\"text-align: right;\">\n",
       "      <th></th>\n",
       "      <th>review</th>\n",
       "      <th>rating</th>\n",
       "    </tr>\n",
       "  </thead>\n",
       "  <tbody>\n",
       "    <tr>\n",
       "      <th>0</th>\n",
       "      <td>One of the other reviewers has mentioned that ...</td>\n",
       "      <td>1</td>\n",
       "    </tr>\n",
       "    <tr>\n",
       "      <th>1</th>\n",
       "      <td>A wonderful little production. &lt;br /&gt;&lt;br /&gt;The...</td>\n",
       "      <td>1</td>\n",
       "    </tr>\n",
       "    <tr>\n",
       "      <th>2</th>\n",
       "      <td>I thought this was a wonderful way to spend ti...</td>\n",
       "      <td>1</td>\n",
       "    </tr>\n",
       "    <tr>\n",
       "      <th>3</th>\n",
       "      <td>Basically there's a family where a little boy ...</td>\n",
       "      <td>0</td>\n",
       "    </tr>\n",
       "    <tr>\n",
       "      <th>4</th>\n",
       "      <td>Petter Mattei's \"Love in the Time of Money\" is...</td>\n",
       "      <td>1</td>\n",
       "    </tr>\n",
       "  </tbody>\n",
       "</table>\n",
       "</div>"
      ],
      "text/plain": [
       "                                              review  rating\n",
       "0  One of the other reviewers has mentioned that ...       1\n",
       "1  A wonderful little production. <br /><br />The...       1\n",
       "2  I thought this was a wonderful way to spend ti...       1\n",
       "3  Basically there's a family where a little boy ...       0\n",
       "4  Petter Mattei's \"Love in the Time of Money\" is...       1"
      ]
     },
     "execution_count": 48,
     "metadata": {},
     "output_type": "execute_result"
    }
   ],
   "source": [
    "print(df.shape)\n",
    "df.head()"
   ]
  },
  {
   "cell_type": "code",
   "execution_count": 49,
   "metadata": {},
   "outputs": [
    {
     "name": "stdout",
     "output_type": "stream",
     "text": [
      "(299, 2)\n"
     ]
    },
    {
     "data": {
      "text/html": [
       "<div>\n",
       "<style scoped>\n",
       "    .dataframe tbody tr th:only-of-type {\n",
       "        vertical-align: middle;\n",
       "    }\n",
       "\n",
       "    .dataframe tbody tr th {\n",
       "        vertical-align: top;\n",
       "    }\n",
       "\n",
       "    .dataframe thead th {\n",
       "        text-align: right;\n",
       "    }\n",
       "</style>\n",
       "<table border=\"1\" class=\"dataframe\">\n",
       "  <thead>\n",
       "    <tr style=\"text-align: right;\">\n",
       "      <th></th>\n",
       "      <th>review</th>\n",
       "      <th>rating</th>\n",
       "    </tr>\n",
       "  </thead>\n",
       "  <tbody>\n",
       "    <tr>\n",
       "      <th>0</th>\n",
       "      <td>One of the other reviewers has mentioned that ...</td>\n",
       "      <td>1</td>\n",
       "    </tr>\n",
       "    <tr>\n",
       "      <th>1</th>\n",
       "      <td>A wonderful little production. &lt;br /&gt;&lt;br /&gt;The...</td>\n",
       "      <td>1</td>\n",
       "    </tr>\n",
       "    <tr>\n",
       "      <th>2</th>\n",
       "      <td>I thought this was a wonderful way to spend ti...</td>\n",
       "      <td>1</td>\n",
       "    </tr>\n",
       "    <tr>\n",
       "      <th>3</th>\n",
       "      <td>Basically there's a family where a little boy ...</td>\n",
       "      <td>0</td>\n",
       "    </tr>\n",
       "    <tr>\n",
       "      <th>4</th>\n",
       "      <td>Petter Mattei's \"Love in the Time of Money\" is...</td>\n",
       "      <td>1</td>\n",
       "    </tr>\n",
       "  </tbody>\n",
       "</table>\n",
       "</div>"
      ],
      "text/plain": [
       "                                              review  rating\n",
       "0  One of the other reviewers has mentioned that ...       1\n",
       "1  A wonderful little production. <br /><br />The...       1\n",
       "2  I thought this was a wonderful way to spend ti...       1\n",
       "3  Basically there's a family where a little boy ...       0\n",
       "4  Petter Mattei's \"Love in the Time of Money\" is...       1"
      ]
     },
     "execution_count": 49,
     "metadata": {},
     "output_type": "execute_result"
    }
   ],
   "source": [
    "df[\"rating\"].isnull().sum()\n",
    "df.drop_duplicates(subset=[\"rating\",\"review\"],keep=\"first\",inplace=True)\n",
    "print(df.shape)\n",
    "df.head()\n"
   ]
  },
  {
   "cell_type": "code",
   "execution_count": 50,
   "metadata": {},
   "outputs": [
    {
     "name": "stdout",
     "output_type": "stream",
     "text": [
      "One of the other reviewers has mentioned that after watching just 1 Oz episode you'll be hooked. They are right, as this is exactly what happened with me.<br /><br />The first thing that struck me about Oz was its brutality and unflinching scenes of violence, which set in right from the word GO. Trust me, this is not a show for the faint hearted or timid. This show pulls no punches with regards to drugs, sex or violence. Its is hardcore, in the classic use of the word.<br /><br />It is called OZ as that is the nickname given to the Oswald Maximum Security State Penitentary. It focuses mainly on Emerald City, an experimental section of the prison where all the cells have glass fronts and face inwards, so privacy is not high on the agenda. Em City is home to many..Aryans, Muslims, gangstas, Latinos, Christians, Italians, Irish and more....so scuffles, death stares, dodgy dealings and shady agreements are never far away.<br /><br />I would say the main appeal of the show is due to the fact that it goes where other shows wouldn't dare. Forget pretty pictures painted for mainstream audiences, forget charm, forget romance...OZ doesn't mess around. The first episode I ever saw struck me as so nasty it was surreal, I couldn't say I was ready for it, but as I watched more, I developed a taste for Oz, and got accustomed to the high levels of graphic violence. Not just violence, but injustice (crooked guards who'll be sold out for a nickel, inmates who'll kill on order and get away with it, well mannered, middle class inmates being turned into prison bitches due to their lack of street skills or prison experience) Watching Oz, you may become comfortable with what is uncomfortable viewing....thats if you can get in touch with your darker side.\n",
      "\n",
      "\n",
      "A wonderful little production. <br /><br />The filming technique is very unassuming- very old-time-BBC fashion and gives a comforting, and sometimes discomforting, sense of realism to the entire piece. <br /><br />The actors are extremely well chosen- Michael Sheen not only \"has got all the polari\" but he has all the voices down pat too! You can truly see the seamless editing guided by the references to Williams' diary entries, not only is it well worth the watching but it is a terrificly written and performed piece. A masterful production about one of the great master's of comedy and his life. <br /><br />The realism really comes home with the little things: the fantasy of the guard which, rather than use the traditional 'dream' techniques remains solid then disappears. It plays on our knowledge and our senses, particularly with the scenes concerning Orton and Halliwell and the sets (particularly of their flat with Halliwell's murals decorating every surface) are terribly well done.\n",
      "\n",
      "\n",
      "I thought this was a wonderful way to spend time on a too hot summer weekend, sitting in the air conditioned theater and watching a light-hearted comedy. The plot is simplistic, but the dialogue is witty and the characters are likable (even the well bread suspected serial killer). While some may be disappointed when they realize this is not Match Point 2: Risk Addiction, I thought it was proof that Woody Allen is still fully in control of the style many of us have grown to love.<br /><br />This was the most I'd laughed at one of Woody's comedies in years (dare I say a decade?). While I've never been impressed with Scarlet Johanson, in this she managed to tone down her \"sexy\" image and jumped right into a average, but spirited young woman.<br /><br />This may not be the crown jewel of his career, but it was wittier than \"Devil Wears Prada\" and more interesting than \"Superman\" a great comedy to go see with friends.\n",
      "\n",
      "\n",
      "Basically there's a family where a little boy (Jake) thinks there's a zombie in his closet & his parents are fighting all the time.<br /><br />This movie is slower than a soap opera... and suddenly, Jake decides to become Rambo and kill the zombie.<br /><br />OK, first of all when you're going to make a film you must Decide if its a thriller or a drama! As a drama the movie is watchable. Parents are divorcing & arguing like in real life. And then we have Jake with his closet which totally ruins all the film! I expected to see a BOOGEYMAN similar movie, and instead i watched a drama with some meaningless thriller spots.<br /><br />3 out of 10 just for the well playing parents & descent dialogs. As for the shots with Jake: just ignore them.\n",
      "\n",
      "\n",
      "Petter Mattei's \"Love in the Time of Money\" is a visually stunning film to watch. Mr. Mattei offers us a vivid portrait about human relations. This is a movie that seems to be telling us what money, power and success do to people in the different situations we encounter. <br /><br />This being a variation on the Arthur Schnitzler's play about the same theme, the director transfers the action to the present time New York where all these different characters meet and connect. Each one is connected in one way, or another to the next person, but no one seems to know the previous point of contact. Stylishly, the film has a sophisticated luxurious look. We are taken to see how these people live and the world they live in their own habitat.<br /><br />The only thing one gets out of all these souls in the picture is the different stages of loneliness each one inhabits. A big city is not exactly the best place in which human relations find sincere fulfillment, as one discerns is the case with most of the people we encounter.<br /><br />The acting is good under Mr. Mattei's direction. Steve Buscemi, Rosario Dawson, Carol Kane, Michael Imperioli, Adrian Grenier, and the rest of the talented cast, make these characters come alive.<br /><br />We wish Mr. Mattei good luck and await anxiously for his next work.\n",
      "\n",
      "\n"
     ]
    }
   ],
   "source": [
    "for review in df['review'][:5]:\n",
    "    print(review+'\\n'+'\\n')"
   ]
  },
  {
   "cell_type": "code",
   "execution_count": 51,
   "metadata": {},
   "outputs": [
    {
     "data": {
      "text/html": [
       "<div>\n",
       "<style scoped>\n",
       "    .dataframe tbody tr th:only-of-type {\n",
       "        vertical-align: middle;\n",
       "    }\n",
       "\n",
       "    .dataframe tbody tr th {\n",
       "        vertical-align: top;\n",
       "    }\n",
       "\n",
       "    .dataframe thead th {\n",
       "        text-align: right;\n",
       "    }\n",
       "</style>\n",
       "<table border=\"1\" class=\"dataframe\">\n",
       "  <thead>\n",
       "    <tr style=\"text-align: right;\">\n",
       "      <th></th>\n",
       "      <th>review</th>\n",
       "      <th>rating</th>\n",
       "    </tr>\n",
       "  </thead>\n",
       "  <tbody>\n",
       "    <tr>\n",
       "      <th>0</th>\n",
       "      <td>One of the other reviewers has mentioned that ...</td>\n",
       "      <td>1</td>\n",
       "    </tr>\n",
       "    <tr>\n",
       "      <th>1</th>\n",
       "      <td>A wonderful little production. &lt;br /&gt;&lt;br /&gt;The...</td>\n",
       "      <td>1</td>\n",
       "    </tr>\n",
       "    <tr>\n",
       "      <th>2</th>\n",
       "      <td>I thought this was a wonderful way to spend ti...</td>\n",
       "      <td>1</td>\n",
       "    </tr>\n",
       "    <tr>\n",
       "      <th>3</th>\n",
       "      <td>Basically there's a family where a little boy ...</td>\n",
       "      <td>0</td>\n",
       "    </tr>\n",
       "    <tr>\n",
       "      <th>4</th>\n",
       "      <td>Petter Mattei's \"Love in the Time of Money\" is...</td>\n",
       "      <td>1</td>\n",
       "    </tr>\n",
       "  </tbody>\n",
       "</table>\n",
       "</div>"
      ],
      "text/plain": [
       "                                              review  rating\n",
       "0  One of the other reviewers has mentioned that ...       1\n",
       "1  A wonderful little production. <br /><br />The...       1\n",
       "2  I thought this was a wonderful way to spend ti...       1\n",
       "3  Basically there's a family where a little boy ...       0\n",
       "4  Petter Mattei's \"Love in the Time of Money\" is...       1"
      ]
     },
     "execution_count": 51,
     "metadata": {},
     "output_type": "execute_result"
    }
   ],
   "source": [
    "df.head()"
   ]
  },
  {
   "cell_type": "code",
   "execution_count": 52,
   "metadata": {},
   "outputs": [],
   "source": [
    "df[\"sentiment\"]=df[\"rating\"]"
   ]
  },
  {
   "cell_type": "code",
   "execution_count": 53,
   "metadata": {},
   "outputs": [],
   "source": [
    "df.drop(\"rating\",axis=1,inplace=True)"
   ]
  },
  {
   "cell_type": "code",
   "execution_count": 54,
   "metadata": {},
   "outputs": [
    {
     "data": {
      "text/html": [
       "<div>\n",
       "<style scoped>\n",
       "    .dataframe tbody tr th:only-of-type {\n",
       "        vertical-align: middle;\n",
       "    }\n",
       "\n",
       "    .dataframe tbody tr th {\n",
       "        vertical-align: top;\n",
       "    }\n",
       "\n",
       "    .dataframe thead th {\n",
       "        text-align: right;\n",
       "    }\n",
       "</style>\n",
       "<table border=\"1\" class=\"dataframe\">\n",
       "  <thead>\n",
       "    <tr style=\"text-align: right;\">\n",
       "      <th></th>\n",
       "      <th>review</th>\n",
       "      <th>sentiment</th>\n",
       "    </tr>\n",
       "  </thead>\n",
       "  <tbody>\n",
       "    <tr>\n",
       "      <th>0</th>\n",
       "      <td>One of the other reviewers has mentioned that ...</td>\n",
       "      <td>1</td>\n",
       "    </tr>\n",
       "    <tr>\n",
       "      <th>1</th>\n",
       "      <td>A wonderful little production. &lt;br /&gt;&lt;br /&gt;The...</td>\n",
       "      <td>1</td>\n",
       "    </tr>\n",
       "    <tr>\n",
       "      <th>2</th>\n",
       "      <td>I thought this was a wonderful way to spend ti...</td>\n",
       "      <td>1</td>\n",
       "    </tr>\n",
       "    <tr>\n",
       "      <th>3</th>\n",
       "      <td>Basically there's a family where a little boy ...</td>\n",
       "      <td>0</td>\n",
       "    </tr>\n",
       "    <tr>\n",
       "      <th>4</th>\n",
       "      <td>Petter Mattei's \"Love in the Time of Money\" is...</td>\n",
       "      <td>1</td>\n",
       "    </tr>\n",
       "  </tbody>\n",
       "</table>\n",
       "</div>"
      ],
      "text/plain": [
       "                                              review  sentiment\n",
       "0  One of the other reviewers has mentioned that ...          1\n",
       "1  A wonderful little production. <br /><br />The...          1\n",
       "2  I thought this was a wonderful way to spend ti...          1\n",
       "3  Basically there's a family where a little boy ...          0\n",
       "4  Petter Mattei's \"Love in the Time of Money\" is...          1"
      ]
     },
     "execution_count": 54,
     "metadata": {},
     "output_type": "execute_result"
    }
   ],
   "source": [
    "df.head()"
   ]
  },
  {
   "cell_type": "code",
   "execution_count": 55,
   "metadata": {},
   "outputs": [
    {
     "data": {
      "text/plain": [
       "sentiment\n",
       "0    161\n",
       "1    138\n",
       "Name: count, dtype: int64"
      ]
     },
     "execution_count": 55,
     "metadata": {},
     "output_type": "execute_result"
    }
   ],
   "source": [
    "df[\"sentiment\"].value_counts()  "
   ]
  },
  {
   "cell_type": "code",
   "execution_count": 56,
   "metadata": {},
   "outputs": [],
   "source": [
    "def clean_reviews(review):  \n",
    "    \n",
    "    # 1. Removing html tags\n",
    "    review_text = BeautifulSoup(review,\"lxml\").get_text()\n",
    "    \n",
    "    # 2. Retaining only alphabets.\n",
    "    review_text = re.sub(\"[^a-zA-Z]\",\" \",review_text)\n",
    "    \n",
    "    # 3. Converting to lower case and splitting\n",
    "    word_tokens= review_text.lower().split()\n",
    "    \n",
    "    # 4. Remove stopwords\n",
    "    le=WordNetLemmatizer()\n",
    "    stop_words= set(stopwords.words(\"english\"))     \n",
    "    word_tokens= [le.lemmatize(w) for w in word_tokens if not w in stop_words]\n",
    "    \n",
    "    cleaned_review=\" \".join(word_tokens)\n",
    "    return cleaned_review"
   ]
  },
  {
   "cell_type": "code",
   "execution_count": 57,
   "metadata": {},
   "outputs": [],
   "source": [
    "pos_df=df.loc[df.sentiment==1,:][:50000]\n",
    "neg_df=df.loc[df.sentiment==0,:][:50000]"
   ]
  },
  {
   "cell_type": "code",
   "execution_count": 58,
   "metadata": {},
   "outputs": [
    {
     "data": {
      "text/html": [
       "<div>\n",
       "<style scoped>\n",
       "    .dataframe tbody tr th:only-of-type {\n",
       "        vertical-align: middle;\n",
       "    }\n",
       "\n",
       "    .dataframe tbody tr th {\n",
       "        vertical-align: top;\n",
       "    }\n",
       "\n",
       "    .dataframe thead th {\n",
       "        text-align: right;\n",
       "    }\n",
       "</style>\n",
       "<table border=\"1\" class=\"dataframe\">\n",
       "  <thead>\n",
       "    <tr style=\"text-align: right;\">\n",
       "      <th></th>\n",
       "      <th>review</th>\n",
       "      <th>sentiment</th>\n",
       "    </tr>\n",
       "  </thead>\n",
       "  <tbody>\n",
       "    <tr>\n",
       "      <th>0</th>\n",
       "      <td>One of the other reviewers has mentioned that ...</td>\n",
       "      <td>1</td>\n",
       "    </tr>\n",
       "    <tr>\n",
       "      <th>1</th>\n",
       "      <td>A wonderful little production. &lt;br /&gt;&lt;br /&gt;The...</td>\n",
       "      <td>1</td>\n",
       "    </tr>\n",
       "    <tr>\n",
       "      <th>2</th>\n",
       "      <td>I thought this was a wonderful way to spend ti...</td>\n",
       "      <td>1</td>\n",
       "    </tr>\n",
       "    <tr>\n",
       "      <th>4</th>\n",
       "      <td>Petter Mattei's \"Love in the Time of Money\" is...</td>\n",
       "      <td>1</td>\n",
       "    </tr>\n",
       "    <tr>\n",
       "      <th>5</th>\n",
       "      <td>Probably my all-time favorite movie, a story o...</td>\n",
       "      <td>1</td>\n",
       "    </tr>\n",
       "  </tbody>\n",
       "</table>\n",
       "</div>"
      ],
      "text/plain": [
       "                                              review  sentiment\n",
       "0  One of the other reviewers has mentioned that ...          1\n",
       "1  A wonderful little production. <br /><br />The...          1\n",
       "2  I thought this was a wonderful way to spend ti...          1\n",
       "4  Petter Mattei's \"Love in the Time of Money\" is...          1\n",
       "5  Probably my all-time favorite movie, a story o...          1"
      ]
     },
     "execution_count": 58,
     "metadata": {},
     "output_type": "execute_result"
    }
   ],
   "source": [
    "pos_df.head()"
   ]
  },
  {
   "cell_type": "code",
   "execution_count": 59,
   "metadata": {},
   "outputs": [
    {
     "data": {
      "text/html": [
       "<div>\n",
       "<style scoped>\n",
       "    .dataframe tbody tr th:only-of-type {\n",
       "        vertical-align: middle;\n",
       "    }\n",
       "\n",
       "    .dataframe tbody tr th {\n",
       "        vertical-align: top;\n",
       "    }\n",
       "\n",
       "    .dataframe thead th {\n",
       "        text-align: right;\n",
       "    }\n",
       "</style>\n",
       "<table border=\"1\" class=\"dataframe\">\n",
       "  <thead>\n",
       "    <tr style=\"text-align: right;\">\n",
       "      <th></th>\n",
       "      <th>review</th>\n",
       "      <th>sentiment</th>\n",
       "    </tr>\n",
       "  </thead>\n",
       "  <tbody>\n",
       "    <tr>\n",
       "      <th>3</th>\n",
       "      <td>Basically there's a family where a little boy ...</td>\n",
       "      <td>0</td>\n",
       "    </tr>\n",
       "    <tr>\n",
       "      <th>7</th>\n",
       "      <td>This show was an amazing, fresh &amp; innovative i...</td>\n",
       "      <td>0</td>\n",
       "    </tr>\n",
       "    <tr>\n",
       "      <th>8</th>\n",
       "      <td>Encouraged by the positive comments about this...</td>\n",
       "      <td>0</td>\n",
       "    </tr>\n",
       "    <tr>\n",
       "      <th>10</th>\n",
       "      <td>Phil the Alien is one of those quirky films wh...</td>\n",
       "      <td>0</td>\n",
       "    </tr>\n",
       "    <tr>\n",
       "      <th>11</th>\n",
       "      <td>I saw this movie when I was about 12 when it c...</td>\n",
       "      <td>0</td>\n",
       "    </tr>\n",
       "  </tbody>\n",
       "</table>\n",
       "</div>"
      ],
      "text/plain": [
       "                                               review  sentiment\n",
       "3   Basically there's a family where a little boy ...          0\n",
       "7   This show was an amazing, fresh & innovative i...          0\n",
       "8   Encouraged by the positive comments about this...          0\n",
       "10  Phil the Alien is one of those quirky films wh...          0\n",
       "11  I saw this movie when I was about 12 when it c...          0"
      ]
     },
     "execution_count": 59,
     "metadata": {},
     "output_type": "execute_result"
    }
   ],
   "source": [
    "neg_df.head()"
   ]
  },
  {
   "cell_type": "code",
   "execution_count": 60,
   "metadata": {},
   "outputs": [],
   "source": [
    "df=pd.concat([pos_df,neg_df],ignore_index=True)"
   ]
  },
  {
   "cell_type": "code",
   "execution_count": 61,
   "metadata": {},
   "outputs": [
    {
     "name": "stdout",
     "output_type": "stream",
     "text": [
      "(299, 2)\n"
     ]
    },
    {
     "data": {
      "text/html": [
       "<div>\n",
       "<style scoped>\n",
       "    .dataframe tbody tr th:only-of-type {\n",
       "        vertical-align: middle;\n",
       "    }\n",
       "\n",
       "    .dataframe tbody tr th {\n",
       "        vertical-align: top;\n",
       "    }\n",
       "\n",
       "    .dataframe thead th {\n",
       "        text-align: right;\n",
       "    }\n",
       "</style>\n",
       "<table border=\"1\" class=\"dataframe\">\n",
       "  <thead>\n",
       "    <tr style=\"text-align: right;\">\n",
       "      <th></th>\n",
       "      <th>review</th>\n",
       "      <th>sentiment</th>\n",
       "    </tr>\n",
       "  </thead>\n",
       "  <tbody>\n",
       "    <tr>\n",
       "      <th>0</th>\n",
       "      <td>One of the other reviewers has mentioned that ...</td>\n",
       "      <td>1</td>\n",
       "    </tr>\n",
       "    <tr>\n",
       "      <th>1</th>\n",
       "      <td>A wonderful little production. &lt;br /&gt;&lt;br /&gt;The...</td>\n",
       "      <td>1</td>\n",
       "    </tr>\n",
       "    <tr>\n",
       "      <th>2</th>\n",
       "      <td>I thought this was a wonderful way to spend ti...</td>\n",
       "      <td>1</td>\n",
       "    </tr>\n",
       "    <tr>\n",
       "      <th>3</th>\n",
       "      <td>Petter Mattei's \"Love in the Time of Money\" is...</td>\n",
       "      <td>1</td>\n",
       "    </tr>\n",
       "    <tr>\n",
       "      <th>4</th>\n",
       "      <td>Probably my all-time favorite movie, a story o...</td>\n",
       "      <td>1</td>\n",
       "    </tr>\n",
       "  </tbody>\n",
       "</table>\n",
       "</div>"
      ],
      "text/plain": [
       "                                              review  sentiment\n",
       "0  One of the other reviewers has mentioned that ...          1\n",
       "1  A wonderful little production. <br /><br />The...          1\n",
       "2  I thought this was a wonderful way to spend ti...          1\n",
       "3  Petter Mattei's \"Love in the Time of Money\" is...          1\n",
       "4  Probably my all-time favorite movie, a story o...          1"
      ]
     },
     "execution_count": 61,
     "metadata": {},
     "output_type": "execute_result"
    }
   ],
   "source": [
    "print(df.shape)\n",
    "df.head()"
   ]
  },
  {
   "cell_type": "code",
   "execution_count": 62,
   "metadata": {},
   "outputs": [
    {
     "name": "stdout",
     "output_type": "stream",
     "text": [
      "(299, 2)\n"
     ]
    },
    {
     "data": {
      "text/html": [
       "<div>\n",
       "<style scoped>\n",
       "    .dataframe tbody tr th:only-of-type {\n",
       "        vertical-align: middle;\n",
       "    }\n",
       "\n",
       "    .dataframe tbody tr th {\n",
       "        vertical-align: top;\n",
       "    }\n",
       "\n",
       "    .dataframe thead th {\n",
       "        text-align: right;\n",
       "    }\n",
       "</style>\n",
       "<table border=\"1\" class=\"dataframe\">\n",
       "  <thead>\n",
       "    <tr style=\"text-align: right;\">\n",
       "      <th></th>\n",
       "      <th>review</th>\n",
       "      <th>sentiment</th>\n",
       "    </tr>\n",
       "  </thead>\n",
       "  <tbody>\n",
       "    <tr>\n",
       "      <th>0</th>\n",
       "      <td>Nicholas Walker is Paul, the local town Revera...</td>\n",
       "      <td>0</td>\n",
       "    </tr>\n",
       "    <tr>\n",
       "      <th>1</th>\n",
       "      <td>Maybe it was the title, or the trailer (certai...</td>\n",
       "      <td>0</td>\n",
       "    </tr>\n",
       "    <tr>\n",
       "      <th>2</th>\n",
       "      <td>Nice character development in a pretty cool mi...</td>\n",
       "      <td>1</td>\n",
       "    </tr>\n",
       "    <tr>\n",
       "      <th>3</th>\n",
       "      <td>I am not a golf fan by any means. On May 26 ab...</td>\n",
       "      <td>1</td>\n",
       "    </tr>\n",
       "    <tr>\n",
       "      <th>4</th>\n",
       "      <td>I had heard good things about \"States of Grace...</td>\n",
       "      <td>0</td>\n",
       "    </tr>\n",
       "  </tbody>\n",
       "</table>\n",
       "</div>"
      ],
      "text/plain": [
       "                                              review  sentiment\n",
       "0  Nicholas Walker is Paul, the local town Revera...          0\n",
       "1  Maybe it was the title, or the trailer (certai...          0\n",
       "2  Nice character development in a pretty cool mi...          1\n",
       "3  I am not a golf fan by any means. On May 26 ab...          1\n",
       "4  I had heard good things about \"States of Grace...          0"
      ]
     },
     "execution_count": 62,
     "metadata": {},
     "output_type": "execute_result"
    }
   ],
   "source": [
    "df = df.sample(frac=1).reset_index(drop=True)\n",
    "print(df.shape) \n",
    "df.head()"
   ]
  },
  {
   "cell_type": "code",
   "execution_count": 63,
   "metadata": {},
   "outputs": [
    {
     "name": "stdout",
     "output_type": "stream",
     "text": [
      "3074\n",
      "3074\n"
     ]
    }
   ],
   "source": [
    "tokenizer = nltk.data.load('tokenizers/punkt/english.pickle')\n",
    "sentences=[]\n",
    "sum=0\n",
    "for review in df['review']:\n",
    "    sents=tokenizer.tokenize(review.strip())\n",
    "    sum+=len(sents)\n",
    "    for sent in sents:\n",
    "        cleaned_sent=clean_reviews(sent)\n",
    "        sentences.append(cleaned_sent.split()) # can use word_tokenize also.\n",
    "print(sum)\n",
    "print(len(sentences)) "
   ]
  },
  {
   "cell_type": "code",
   "execution_count": 64,
   "metadata": {},
   "outputs": [
    {
     "name": "stdout",
     "output_type": "stream",
     "text": [
      "['nicholas', 'walker', 'paul', 'local', 'town', 'reverand', 'married', 'martha', 'ally', 'sheedy', 'also', 'habitual', 'womanizer', 'decides', 'fake', 'death', 'run', 'away', 'current', 'affair', 'veronica', 'dara', 'tomanovich'] \n",
      "\n",
      "['however', 'get', 'bout', 'amnesia', 'hence', 'name', 'film'] \n",
      "\n",
      "['sally', 'kirkland', 'also', 'hand', 'crazy', 'old', 'coot', 'pine', 'good', 'reverand', 'shade', 'misery', 'type', 'way'] \n",
      "\n",
      "['sad', 'see', 'pretty', 'good', 'cast', 'wasted', 'like'] \n",
      "\n",
      "['least', 'bit', 'john', 'savage', 'horridly', 'forgettable', 'role', 'shoddy', 'private', 'investigator'] \n",
      "\n"
     ]
    }
   ],
   "source": [
    "for te in sentences[:5]:\n",
    "    print(te,\"\\n\")"
   ]
  },
  {
   "cell_type": "code",
   "execution_count": 65,
   "metadata": {},
   "outputs": [],
   "source": [
    "import gensim\n",
    "w2v_model=gensim.models.Word2Vec(sentences=sentences,vector_size=300,window=10,min_count=1)"
   ]
  },
  {
   "cell_type": "code",
   "execution_count": 66,
   "metadata": {},
   "outputs": [
    {
     "data": {
      "text/plain": [
       "(339948, 356490)"
      ]
     },
     "execution_count": 66,
     "metadata": {},
     "output_type": "execute_result"
    }
   ],
   "source": [
    "w2v_model.train(sentences,epochs=10,total_examples=len(sentences))"
   ]
  },
  {
   "cell_type": "code",
   "execution_count": 67,
   "metadata": {},
   "outputs": [
    {
     "data": {
      "text/plain": [
       "array([ 0.06569339,  0.9521061 ,  0.11548917,  0.4258007 ,  0.03242154,\n",
       "       -0.7712088 ,  0.5788869 ,  1.5357063 ,  0.35029316, -0.20203252,\n",
       "       -0.10399392, -0.6153211 , -0.01026566, -0.02313555, -0.5600405 ,\n",
       "       -0.6065037 ,  0.36840317, -0.25274125,  0.170356  , -0.34891775,\n",
       "       -0.53054756, -0.09185503,  0.6308288 ,  0.15072033,  0.6777105 ,\n",
       "        0.20596495, -0.58892244, -0.09038148, -0.34430766, -0.66739905,\n",
       "       -0.01071539, -0.45277512, -0.00966297, -0.1204746 , -0.21174681,\n",
       "        0.27347007,  0.50031686, -0.8033316 ,  0.04401803, -0.26409885,\n",
       "       -0.46483883,  0.13654856,  0.14124721, -0.6807424 ,  0.3105085 ,\n",
       "        0.785298  ,  0.24934553,  0.34408015, -0.06064266,  0.88819003,\n",
       "        0.11927018, -0.07060729, -0.5066343 , -0.07347614, -0.24474396,\n",
       "        0.6426907 ,  0.30355987, -0.06062137,  0.18441862, -0.14712624,\n",
       "       -0.30907133, -0.35710052,  0.0520143 ,  0.3008788 ,  0.30269837,\n",
       "        0.06726049, -0.19259965,  0.2945421 , -0.30008936, -0.2188548 ,\n",
       "       -0.12099336,  0.42907444,  0.7480175 , -0.7329629 ,  0.02848885,\n",
       "        0.3453607 , -0.63004434,  0.08048631, -0.16604376,  0.5529271 ,\n",
       "       -0.26848912, -0.9188965 ,  0.02201619,  1.3897442 ,  0.27462754,\n",
       "       -0.03667961, -0.44663963,  0.16043481,  0.62302345,  0.10012901,\n",
       "        0.4531208 , -0.4122081 ,  0.30601296,  0.04206073,  0.63533276,\n",
       "        0.7134683 ,  0.7711008 , -0.3894394 , -0.39306685,  0.48310864,\n",
       "        0.06768248, -0.15742448,  0.5174163 ,  0.1428861 ,  0.2591066 ,\n",
       "       -0.5286455 , -0.31719607,  0.11636371, -0.717566  ,  0.06266005,\n",
       "       -0.8465976 , -0.38908467, -0.18637612,  0.51037616,  0.6035315 ,\n",
       "        0.50865865, -0.15125102, -0.04330394,  1.1840388 , -0.8738286 ,\n",
       "        0.36098248,  0.41391838,  0.67515457, -0.09428275, -0.16495244,\n",
       "        0.32089463,  0.13789877, -0.57865393, -0.2190273 ,  0.32983539,\n",
       "        0.1754991 ,  0.9023375 ,  0.25125742, -0.798301  ,  0.28971723,\n",
       "        0.20847109, -0.22953618, -0.5382008 , -0.8585094 , -0.6435156 ,\n",
       "        0.20792519, -0.77335936, -0.1648487 ,  0.5527962 ,  0.37059915,\n",
       "       -0.34732085, -0.9572628 , -0.13082804,  0.4336177 , -0.51263946,\n",
       "        0.08647715, -1.198739  , -0.4798629 , -0.4006128 , -0.06615801,\n",
       "        0.38620543, -0.6247938 , -0.2129044 ,  0.01066741,  0.81962246,\n",
       "        0.16635856,  0.6214979 , -0.9543857 ,  0.8118613 , -0.57355714,\n",
       "        0.20335217, -0.07090915, -0.308313  ,  0.1305909 ,  1.1246833 ,\n",
       "       -0.3453957 , -0.03286488,  0.48091218,  0.1324877 , -0.11377794,\n",
       "       -0.03057625,  0.10452588, -0.74407804, -0.15160264, -0.2493914 ,\n",
       "       -0.5736439 ,  0.39741662, -0.40898135, -0.51508284, -0.1223742 ,\n",
       "        0.00332561,  0.94049066,  0.81139606,  0.43977568, -0.6450536 ,\n",
       "        0.02671411, -0.08332536, -0.9185814 ,  0.02748648,  0.15535878,\n",
       "       -0.45296863, -0.04366671, -0.5381348 ,  0.32219666, -0.10876707,\n",
       "       -0.56803757,  0.3727288 , -0.04479616, -0.45615605, -0.24020278,\n",
       "       -0.16243203, -0.32610413,  0.2763136 ,  0.00639437, -0.29880142,\n",
       "        0.18179946, -0.4605755 , -0.39458925, -0.26246718,  0.63546795,\n",
       "       -0.7741167 , -0.42184353, -1.3142564 , -0.8309657 , -0.64066947,\n",
       "        0.4296569 ,  0.15044579, -0.32259387, -0.32700518, -0.32040316,\n",
       "       -0.55244744,  0.21862157,  0.02214853, -0.6896696 ,  0.1901567 ,\n",
       "        0.49557075, -0.2189275 , -0.55650496,  0.4408808 , -0.26642102,\n",
       "        0.15425281, -0.14462012,  0.3366176 ,  0.18206377, -1.1128881 ,\n",
       "        0.42759195, -0.30685493, -0.6139375 ,  0.12142817,  0.06047634,\n",
       "       -0.73919964,  0.05931461,  0.3711786 , -0.13444889,  0.47864807,\n",
       "        0.19163865,  0.26623693,  0.45336995, -0.22580773, -0.9537683 ,\n",
       "       -0.6365172 ,  0.94653624,  0.44107744, -1.2669427 , -0.4906618 ,\n",
       "        0.304386  ,  0.44388178,  0.09397276, -1.1774225 , -0.63601327,\n",
       "        0.00637186,  0.49627227,  0.61770993, -0.5636901 ,  0.08376344,\n",
       "       -0.5070316 , -0.11819512,  0.07729461, -0.20816272,  0.8108048 ,\n",
       "        0.16040926,  0.51051915,  0.13892253, -0.5542386 ,  0.04374098,\n",
       "        0.3864054 , -0.13804339, -0.30675215,  0.18689425, -0.03681405,\n",
       "       -0.12714802, -0.8546685 ,  0.39965227,  0.10338285,  0.76686585,\n",
       "        0.04790445,  0.825735  ,  0.76207054,  0.0548205 ,  0.7726821 ,\n",
       "        1.0445522 , -0.04364577, -0.47346008,  0.5431668 , -0.12162642],\n",
       "      dtype=float32)"
      ]
     },
     "execution_count": 67,
     "metadata": {},
     "output_type": "execute_result"
    }
   ],
   "source": [
    "w2v_model.wv.get_vector('like')"
   ]
  },
  {
   "cell_type": "code",
   "execution_count": 68,
   "metadata": {},
   "outputs": [
    {
     "data": {
      "text/plain": [
       "0.9998647"
      ]
     },
     "execution_count": 68,
     "metadata": {},
     "output_type": "execute_result"
    }
   ],
   "source": [
    "w2v_model.wv.similarity('good','like')"
   ]
  },
  {
   "cell_type": "code",
   "execution_count": 69,
   "metadata": {},
   "outputs": [
    {
     "name": "stdout",
     "output_type": "stream",
     "text": [
      "The total number of words are :  8310\n"
     ]
    }
   ],
   "source": [
    "vocab=list(w2v_model.wv.key_to_index.keys())\n",
    "print(\"The total number of words are : \",len(vocab))"
   ]
  },
  {
   "cell_type": "code",
   "execution_count": 70,
   "metadata": {},
   "outputs": [
    {
     "data": {
      "text/plain": [
       "[('look', 0.9999458193778992),\n",
       " ('get', 0.9999440908432007),\n",
       " ('point', 0.9999410510063171),\n",
       " ('could', 0.9999406933784485),\n",
       " ('sure', 0.9999405741691589),\n",
       " ('way', 0.9999405741691589),\n",
       " ('make', 0.9999405741691589),\n",
       " ('first', 0.9999405145645142),\n",
       " ('may', 0.9999402165412903),\n",
       " ('left', 0.9999396800994873)]"
      ]
     },
     "execution_count": 70,
     "metadata": {},
     "output_type": "execute_result"
    }
   ],
   "source": [
    "w2v_model.wv.most_similar('like')"
   ]
  },
  {
   "cell_type": "code",
   "execution_count": 71,
   "metadata": {},
   "outputs": [
    {
     "data": {
      "text/plain": [
       "0.9998647"
      ]
     },
     "execution_count": 71,
     "metadata": {},
     "output_type": "execute_result"
    }
   ],
   "source": [
    "w2v_model.wv.similarity('good','like')"
   ]
  },
  {
   "cell_type": "code",
   "execution_count": 72,
   "metadata": {},
   "outputs": [
    {
     "name": "stdout",
     "output_type": "stream",
     "text": [
      "The no of words : 8310\n"
     ]
    }
   ],
   "source": [
    "print(\"The no of words :\",len(vocab))"
   ]
  },
  {
   "cell_type": "code",
   "execution_count": 73,
   "metadata": {},
   "outputs": [
    {
     "name": "stdout",
     "output_type": "stream",
     "text": [
      "The no of key-value pairs :  8310\n"
     ]
    }
   ],
   "source": [
    "word_vec_dict={}\n",
    "for word in vocab:\n",
    "  word_vec_dict[word]=w2v_model.wv.get_vector(word)\n",
    "print(\"The no of key-value pairs : \",len(word_vec_dict))\n"
   ]
  },
  {
   "cell_type": "code",
   "execution_count": 74,
   "metadata": {},
   "outputs": [
    {
     "name": "stdout",
     "output_type": "stream",
     "text": [
      "[ 0.05977252  0.8337216   0.10976542  0.36348465  0.02302567 -0.6690695\n",
      "  0.5180043   1.3355737   0.2970722  -0.18464443 -0.08126971 -0.5365142\n",
      " -0.01518593 -0.01027349 -0.4910026  -0.5360433   0.3193925  -0.1986805\n",
      "  0.13189892 -0.30331755 -0.4455245  -0.097418    0.5639801   0.13058676\n",
      "  0.5868306   0.17390239 -0.5130116  -0.08153793 -0.3035508  -0.5819596\n",
      " -0.01086684 -0.37812197 -0.00576689 -0.1249825  -0.17744602  0.23063433\n",
      "  0.4308188  -0.70327306  0.0363547  -0.23221052 -0.4086513   0.11733863\n",
      "  0.12458585 -0.5901146   0.26629725  0.68112427  0.2088517   0.30091712\n",
      " -0.0506034   0.77161163  0.09488811 -0.05809205 -0.44701067 -0.05666011\n",
      " -0.20698686  0.5645266   0.26723355 -0.05548063  0.1588139  -0.12131637\n",
      " -0.2650333  -0.30887687  0.03797302  0.26410398  0.24464484  0.06458479\n",
      " -0.16219422  0.26920736 -0.27348977 -0.18735404 -0.11101606  0.3840447\n",
      "  0.6500882  -0.63154745  0.02647547  0.2995403  -0.53862035  0.08421961\n",
      " -0.16555308  0.47416288 -0.2320645  -0.79532856  0.01620532  1.2065151\n",
      "  0.22577704 -0.02052069 -0.37037557  0.13299909  0.5322492   0.09141608\n",
      "  0.40384987 -0.3622103   0.25866434  0.02708965  0.55748016  0.6330143\n",
      "  0.660814   -0.34804    -0.3475522   0.41586578  0.03994531 -0.1358827\n",
      "  0.44518942  0.13775012  0.23131074 -0.45478198 -0.27139857  0.09366996\n",
      " -0.6337113   0.05949356 -0.73747796 -0.33407676 -0.15783843  0.44392705\n",
      "  0.5177695   0.4403199  -0.1262825  -0.02041546  1.0147908  -0.7627447\n",
      "  0.31644806  0.3597683   0.5926511  -0.09218173 -0.13644457  0.2924331\n",
      "  0.10326371 -0.49313965 -0.19121736  0.2919754   0.16157888  0.7850822\n",
      "  0.21186641 -0.6974328   0.25314495  0.177066   -0.1932081  -0.44901103\n",
      " -0.7442604  -0.56137127  0.19299276 -0.67531043 -0.14896579  0.47614062\n",
      "  0.3240144  -0.28819522 -0.83041424 -0.12718189  0.38905343 -0.452577\n",
      "  0.09379163 -1.0459197  -0.41281837 -0.34644628 -0.05662505  0.3506631\n",
      " -0.53688484 -0.17616564 -0.00286187  0.7196538   0.15448476  0.53787285\n",
      " -0.8337838   0.7044921  -0.48373166  0.16757782 -0.05706577 -0.27011472\n",
      "  0.11931736  0.9816937  -0.321595   -0.02872584  0.4171016   0.11507184\n",
      " -0.09604139 -0.02501821  0.08035062 -0.64454275 -0.11588866 -0.22290675\n",
      " -0.50071514  0.339895   -0.35947254 -0.45636615 -0.11114338 -0.01651162\n",
      "  0.8251527   0.69853264  0.38283604 -0.561684    0.02836288 -0.07182008\n",
      " -0.7941435   0.02544432  0.13649327 -0.39400372 -0.0556282  -0.4613282\n",
      "  0.26586545 -0.08886953 -0.49484822  0.32448032 -0.05771637 -0.3996021\n",
      " -0.19060618 -0.13181265 -0.2860551   0.24094129 -0.00491257 -0.25312778\n",
      "  0.14870355 -0.41482556 -0.33003625 -0.22106539  0.54689294 -0.66896874\n",
      " -0.3658108  -1.1334562  -0.72836524 -0.5602058   0.37304103  0.13151242\n",
      " -0.28466094 -0.28908134 -0.2603885  -0.4773042   0.19425829  0.01175099\n",
      " -0.6124679   0.17423269  0.41955775 -0.18498123 -0.48631945  0.38135952\n",
      " -0.24313897  0.13026606 -0.11170424  0.290017    0.17145018 -0.96236205\n",
      "  0.37153372 -0.2744818  -0.5343225   0.09438305  0.05513793 -0.6446135\n",
      "  0.04840469  0.32250935 -0.11452445  0.41638368  0.17234465  0.22184898\n",
      "  0.38439527 -0.2046975  -0.81283766 -0.54102206  0.82038236  0.379121\n",
      " -1.0948472  -0.4322759   0.27044773  0.38018298  0.08706927 -1.0238372\n",
      " -0.56381375  0.00276335  0.43953344  0.5278905  -0.50141615  0.07858985\n",
      " -0.4421358  -0.10175813  0.06470034 -0.18560182  0.69120324  0.13699338\n",
      "  0.45618597  0.1309688  -0.47647855  0.03796453  0.3456565  -0.1355775\n",
      " -0.2660274   0.17132944 -0.03784756 -0.11364812 -0.7526913   0.34388915\n",
      "  0.088788    0.6585317   0.04053918  0.7337208   0.67199296  0.05211717\n",
      "  0.6852653   0.91079414 -0.01851169 -0.40499294  0.482403   -0.1098596 ]\n",
      "[ 0.07300625  1.0342176   0.12921341  0.45010525  0.03900172 -0.8329352\n",
      "  0.63226354  1.6576928   0.38345155 -0.21967718 -0.11262811 -0.6651769\n",
      " -0.01073563 -0.03129141 -0.59840554 -0.66497374  0.39863905 -0.26762515\n",
      "  0.1710832  -0.3684119  -0.5735017  -0.10526276  0.6936276   0.16912915\n",
      "  0.7190074   0.23116437 -0.6207132  -0.10431956 -0.36379328 -0.71602315\n",
      " -0.01651821 -0.49749973 -0.0185789  -0.14252208 -0.22570033  0.29198632\n",
      "  0.54601717 -0.87627304  0.04695117 -0.27997553 -0.50113136  0.15127568\n",
      "  0.1606226  -0.7384442   0.33706838  0.8429714   0.27338678  0.36369708\n",
      " -0.06665535  0.9487569   0.13057242 -0.08389913 -0.55110866 -0.09355665\n",
      " -0.2714413   0.7022845   0.32657257 -0.06085723  0.20181651 -0.1651144\n",
      " -0.33305648 -0.39562565  0.05462629  0.32850555  0.33523875  0.06374184\n",
      " -0.20500045  0.33179393 -0.3255876  -0.23624991 -0.1263362   0.45714003\n",
      "  0.806972   -0.7783681   0.02766444  0.3729742  -0.68420506  0.09244306\n",
      " -0.1861562   0.5991347  -0.29159024 -0.9843315   0.02827691  1.4959129\n",
      "  0.29432002 -0.03602193 -0.46816832  0.17122875  0.66780734  0.09442905\n",
      "  0.48354286 -0.44970238  0.3234493   0.03525436  0.68324167  0.7772674\n",
      "  0.84319615 -0.42805058 -0.43067786  0.5102716   0.06506257 -0.17537227\n",
      "  0.55217403  0.15406212  0.2909842  -0.56702334 -0.3408317   0.12044865\n",
      " -0.773629    0.08055523 -0.92251176 -0.4125385  -0.21082124  0.54914176\n",
      "  0.6454464   0.54271984 -0.1660881  -0.04163576  1.2828373  -0.94070953\n",
      "  0.39391103  0.44321615  0.73117745 -0.09379147 -0.1726366   0.34600836\n",
      "  0.14865865 -0.6190256  -0.24672088  0.35346776  0.19651525  0.978857\n",
      "  0.26641473 -0.8738802   0.30986616  0.2135497  -0.2526563  -0.58298373\n",
      " -0.9250309  -0.6954888   0.22306319 -0.83769625 -0.17660815  0.60330707\n",
      "  0.4072006  -0.37654036 -1.0262741  -0.13933015  0.47888848 -0.5581454\n",
      "  0.10296614 -1.2971097  -0.50896585 -0.4349411  -0.07152616  0.41396916\n",
      " -0.67307806 -0.23243283  0.00576874  0.8835238   0.19055612  0.6635281\n",
      " -1.0323243   0.8789197  -0.6162128   0.21506163 -0.06530971 -0.31941968\n",
      "  0.13926373  1.2263737  -0.38054687 -0.03735391  0.51983035  0.1378874\n",
      " -0.13062644 -0.03477513  0.10534536 -0.7867463  -0.15314177 -0.27659282\n",
      " -0.6321629   0.41775247 -0.44007584 -0.5637192  -0.12759835 -0.00372881\n",
      "  1.0243951   0.880067    0.46659243 -0.70129365  0.02092548 -0.09333874\n",
      " -0.9869427   0.02384409  0.16952711 -0.49268174 -0.05185655 -0.5741995\n",
      "  0.34704563 -0.11320693 -0.624326    0.4022301  -0.0460258  -0.5013964\n",
      " -0.27097702 -0.17056283 -0.35453904  0.29486045  0.00268483 -0.32924283\n",
      "  0.1944728  -0.5032134  -0.42900982 -0.28606486  0.6838864  -0.8366157\n",
      " -0.4567084  -1.4164819  -0.8924246  -0.686841    0.463989    0.16475108\n",
      " -0.34904122 -0.34397876 -0.34262708 -0.5957498   0.24646527  0.01567631\n",
      " -0.7449756   0.2077943   0.5407956  -0.23216441 -0.6023693   0.47405192\n",
      " -0.2859747   0.17086007 -0.15215155  0.3646055   0.20876014 -1.197112\n",
      "  0.4761698  -0.33380643 -0.67407686  0.12508012  0.06146925 -0.7982101\n",
      "  0.06214996  0.40771344 -0.1449615   0.5097345   0.20931038  0.2883722\n",
      "  0.49041298 -0.24827553 -1.0306597  -0.68360126  1.0231751   0.470103\n",
      " -1.3763818  -0.5321461   0.3318261   0.47999606  0.10837729 -1.2737645\n",
      " -0.68061024  0.00266427  0.5288726   0.66459227 -0.60759276  0.08158425\n",
      " -0.5471837  -0.13314211  0.09113052 -0.2235778   0.87514365  0.17668204\n",
      "  0.5477933   0.14772275 -0.5994081   0.05414382  0.4206117  -0.16047752\n",
      " -0.3277524   0.19559652 -0.04396987 -0.14682914 -0.92289394  0.43968198\n",
      "  0.1048173   0.82900536  0.04942177  0.8997469   0.82708377  0.05553473\n",
      "  0.8362888   1.1345403  -0.04104756 -0.51375115  0.587705   -0.13228554]\n",
      "[ 7.54977390e-02  9.32873011e-01  1.18695632e-01  4.05168027e-01\n",
      "  3.17645073e-02 -7.46635437e-01  5.74059427e-01  1.49200952e+00\n",
      "  3.37633640e-01 -1.98548913e-01 -9.96097773e-02 -5.98473549e-01\n",
      " -9.78356320e-03 -2.09493563e-02 -5.47767282e-01 -5.93912899e-01\n",
      "  3.60688210e-01 -2.26736382e-01  1.56223372e-01 -3.35522354e-01\n",
      " -5.13760149e-01 -1.01778887e-01  6.34608328e-01  1.47153243e-01\n",
      "  6.55429900e-01  2.04538971e-01 -5.70360005e-01 -9.74343866e-02\n",
      " -3.32342535e-01 -6.47540987e-01 -9.02635418e-03 -4.30123031e-01\n",
      " -1.31615689e-02 -1.29014775e-01 -2.02514216e-01  2.62356907e-01\n",
      "  4.75786120e-01 -7.88362086e-01  4.23436426e-02 -2.57752001e-01\n",
      " -4.45302278e-01  1.27072632e-01  1.40391678e-01 -6.63566232e-01\n",
      "  3.00884962e-01  7.65103400e-01  2.38176182e-01  3.24831665e-01\n",
      " -6.22304790e-02  8.57217431e-01  1.13382161e-01 -8.15999955e-02\n",
      " -4.98816341e-01 -7.20797926e-02 -2.47501269e-01  6.27198994e-01\n",
      "  2.94302821e-01 -6.56882674e-02  1.77993447e-01 -1.46321490e-01\n",
      " -3.00196409e-01 -3.55133593e-01  4.95322049e-02  2.99807161e-01\n",
      "  2.89588124e-01  6.49146289e-02 -1.84381023e-01  2.90865749e-01\n",
      " -3.03884417e-01 -2.11620897e-01 -1.21011525e-01  4.18664187e-01\n",
      "  7.27570534e-01 -7.02801466e-01  2.83159632e-02  3.33132356e-01\n",
      " -6.11689389e-01  8.94288868e-02 -1.72452509e-01  5.47663987e-01\n",
      " -2.53968626e-01 -8.95385265e-01  1.61760598e-02  1.34446216e+00\n",
      "  2.62525618e-01 -3.08187604e-02 -4.15116638e-01  1.53748780e-01\n",
      "  5.95626354e-01  9.51462165e-02  4.43288058e-01 -4.02307898e-01\n",
      "  2.90826142e-01  3.39708850e-02  6.08419418e-01  6.99372053e-01\n",
      "  7.54050851e-01 -3.85120839e-01 -3.90452683e-01  4.66796786e-01\n",
      "  6.19494729e-02 -1.59500867e-01  5.08435190e-01  1.47218898e-01\n",
      "  2.55056143e-01 -5.13176203e-01 -3.01139921e-01  1.02916911e-01\n",
      " -7.07146108e-01  6.79484531e-02 -8.23940873e-01 -3.72225076e-01\n",
      " -1.79261401e-01  4.93856907e-01  5.79903543e-01  4.89891291e-01\n",
      " -1.42677188e-01 -3.09149474e-02  1.14956129e+00 -8.55270624e-01\n",
      "  3.54089469e-01  4.04634029e-01  6.55037165e-01 -9.97471213e-02\n",
      " -1.60576120e-01  3.23831975e-01  1.22955799e-01 -5.53319514e-01\n",
      " -2.18287051e-01  3.21515679e-01  1.72052458e-01  8.85444045e-01\n",
      "  2.41235882e-01 -7.85314560e-01  2.79566199e-01  1.95349604e-01\n",
      " -2.26739317e-01 -5.22024453e-01 -8.37394953e-01 -6.30772114e-01\n",
      "  2.13153824e-01 -7.57905066e-01 -1.58795804e-01  5.42219996e-01\n",
      "  3.72344345e-01 -3.33535522e-01 -9.32410538e-01 -1.31325021e-01\n",
      "  4.37877685e-01 -5.04490495e-01  8.79968256e-02 -1.16870570e+00\n",
      " -4.58974779e-01 -3.93431515e-01 -6.49951175e-02  3.83613884e-01\n",
      " -6.05789244e-01 -1.97340131e-01  2.76351278e-03  8.05501163e-01\n",
      "  1.76845491e-01  6.04060173e-01 -9.33690190e-01  7.99371958e-01\n",
      " -5.44763029e-01  1.90018252e-01 -7.11659491e-02 -2.90246427e-01\n",
      "  1.24469928e-01  1.09608030e+00 -3.43934476e-01 -3.16254236e-02\n",
      "  4.69454259e-01  1.23378441e-01 -1.14016265e-01 -3.09617072e-02\n",
      "  9.69947577e-02 -7.22322345e-01 -1.37105837e-01 -2.51955122e-01\n",
      " -5.63028693e-01  3.82044196e-01 -4.08641428e-01 -5.01748145e-01\n",
      " -1.13629848e-01 -7.33251357e-03  9.25842226e-01  7.98197985e-01\n",
      "  4.30053949e-01 -6.31368279e-01  2.69375630e-02 -8.96742642e-02\n",
      " -8.94323468e-01  2.95276139e-02  1.54342219e-01 -4.39025372e-01\n",
      " -5.74744530e-02 -5.24292350e-01  3.13474119e-01 -1.04265451e-01\n",
      " -5.62335551e-01  3.63776058e-01 -4.84437272e-02 -4.40546662e-01\n",
      " -2.29752347e-01 -1.51141301e-01 -3.16169262e-01  2.62236923e-01\n",
      " -2.56421813e-03 -2.89510071e-01  1.80168182e-01 -4.58318442e-01\n",
      " -3.70549172e-01 -2.54956484e-01  6.22475564e-01 -7.44224727e-01\n",
      " -4.12427157e-01 -1.27692950e+00 -8.13791811e-01 -6.25356972e-01\n",
      "  4.24329281e-01  1.56316727e-01 -3.12514663e-01 -3.20479333e-01\n",
      " -2.99246222e-01 -5.32381594e-01  2.14563638e-01  1.21500315e-02\n",
      " -6.75349593e-01  1.84584796e-01  4.81881171e-01 -2.03412846e-01\n",
      " -5.39201677e-01  4.35266882e-01 -2.63165623e-01  1.53455943e-01\n",
      " -1.33307293e-01  3.27503979e-01  1.88552499e-01 -1.08210194e+00\n",
      "  4.16716129e-01 -2.99687564e-01 -5.98895073e-01  1.04497731e-01\n",
      "  5.42748906e-02 -7.19722569e-01  5.39831743e-02  3.63594383e-01\n",
      " -1.29168212e-01  4.62995768e-01  1.90953836e-01  2.59053946e-01\n",
      "  4.36382443e-01 -2.27556884e-01 -9.10002887e-01 -6.13079429e-01\n",
      "  9.18386698e-01  4.30719465e-01 -1.22800469e+00 -4.82285559e-01\n",
      "  2.90820509e-01  4.28133041e-01  9.72046405e-02 -1.14587855e+00\n",
      " -6.24400795e-01 -1.12296606e-03  4.78675038e-01  5.94744623e-01\n",
      " -5.55800676e-01  7.92691559e-02 -5.01741648e-01 -1.21078260e-01\n",
      "  7.43654519e-02 -2.02196583e-01  7.78049707e-01  1.47481218e-01\n",
      "  4.96362686e-01  1.30156085e-01 -5.40354371e-01  4.28323224e-02\n",
      "  3.75354707e-01 -1.49393871e-01 -2.84796208e-01  1.89262703e-01\n",
      " -3.76507528e-02 -1.24380842e-01 -8.32957804e-01  3.83320600e-01\n",
      "  9.22877342e-02  7.39479601e-01  3.89271043e-02  8.12851131e-01\n",
      "  7.48403847e-01  5.51346689e-02  7.61144578e-01  1.01921022e+00\n",
      " -2.84576807e-02 -4.53782111e-01  5.34530401e-01 -1.19046748e-01]\n",
      "[ 0.06569339  0.9521061   0.11548917  0.4258007   0.03242154 -0.7712088\n",
      "  0.5788869   1.5357063   0.35029316 -0.20203252 -0.10399392 -0.6153211\n",
      " -0.01026566 -0.02313555 -0.5600405  -0.6065037   0.36840317 -0.25274125\n",
      "  0.170356   -0.34891775 -0.53054756 -0.09185503  0.6308288   0.15072033\n",
      "  0.6777105   0.20596495 -0.58892244 -0.09038148 -0.34430766 -0.66739905\n",
      " -0.01071539 -0.45277512 -0.00966297 -0.1204746  -0.21174681  0.27347007\n",
      "  0.50031686 -0.8033316   0.04401803 -0.26409885 -0.46483883  0.13654856\n",
      "  0.14124721 -0.6807424   0.3105085   0.785298    0.24934553  0.34408015\n",
      " -0.06064266  0.88819003  0.11927018 -0.07060729 -0.5066343  -0.07347614\n",
      " -0.24474396  0.6426907   0.30355987 -0.06062137  0.18441862 -0.14712624\n",
      " -0.30907133 -0.35710052  0.0520143   0.3008788   0.30269837  0.06726049\n",
      " -0.19259965  0.2945421  -0.30008936 -0.2188548  -0.12099336  0.42907444\n",
      "  0.7480175  -0.7329629   0.02848885  0.3453607  -0.63004434  0.08048631\n",
      " -0.16604376  0.5529271  -0.26848912 -0.9188965   0.02201619  1.3897442\n",
      "  0.27462754 -0.03667961 -0.44663963  0.16043481  0.62302345  0.10012901\n",
      "  0.4531208  -0.4122081   0.30601296  0.04206073  0.63533276  0.7134683\n",
      "  0.7711008  -0.3894394  -0.39306685  0.48310864  0.06768248 -0.15742448\n",
      "  0.5174163   0.1428861   0.2591066  -0.5286455  -0.31719607  0.11636371\n",
      " -0.717566    0.06266005 -0.8465976  -0.38908467 -0.18637612  0.51037616\n",
      "  0.6035315   0.50865865 -0.15125102 -0.04330394  1.1840388  -0.8738286\n",
      "  0.36098248  0.41391838  0.67515457 -0.09428275 -0.16495244  0.32089463\n",
      "  0.13789877 -0.57865393 -0.2190273   0.32983539  0.1754991   0.9023375\n",
      "  0.25125742 -0.798301    0.28971723  0.20847109 -0.22953618 -0.5382008\n",
      " -0.8585094  -0.6435156   0.20792519 -0.77335936 -0.1648487   0.5527962\n",
      "  0.37059915 -0.34732085 -0.9572628  -0.13082804  0.4336177  -0.51263946\n",
      "  0.08647715 -1.198739   -0.4798629  -0.4006128  -0.06615801  0.38620543\n",
      " -0.6247938  -0.2129044   0.01066741  0.81962246  0.16635856  0.6214979\n",
      " -0.9543857   0.8118613  -0.57355714  0.20335217 -0.07090915 -0.308313\n",
      "  0.1305909   1.1246833  -0.3453957  -0.03286488  0.48091218  0.1324877\n",
      " -0.11377794 -0.03057625  0.10452588 -0.74407804 -0.15160264 -0.2493914\n",
      " -0.5736439   0.39741662 -0.40898135 -0.51508284 -0.1223742   0.00332561\n",
      "  0.94049066  0.81139606  0.43977568 -0.6450536   0.02671411 -0.08332536\n",
      " -0.9185814   0.02748648  0.15535878 -0.45296863 -0.04366671 -0.5381348\n",
      "  0.32219666 -0.10876707 -0.56803757  0.3727288  -0.04479616 -0.45615605\n",
      " -0.24020278 -0.16243203 -0.32610413  0.2763136   0.00639437 -0.29880142\n",
      "  0.18179946 -0.4605755  -0.39458925 -0.26246718  0.63546795 -0.7741167\n",
      " -0.42184353 -1.3142564  -0.8309657  -0.64066947  0.4296569   0.15044579\n",
      " -0.32259387 -0.32700518 -0.32040316 -0.55244744  0.21862157  0.02214853\n",
      " -0.6896696   0.1901567   0.49557075 -0.2189275  -0.55650496  0.4408808\n",
      " -0.26642102  0.15425281 -0.14462012  0.3366176   0.18206377 -1.1128881\n",
      "  0.42759195 -0.30685493 -0.6139375   0.12142817  0.06047634 -0.73919964\n",
      "  0.05931461  0.3711786  -0.13444889  0.47864807  0.19163865  0.26623693\n",
      "  0.45336995 -0.22580773 -0.9537683  -0.6365172   0.94653624  0.44107744\n",
      " -1.2669427  -0.4906618   0.304386    0.44388178  0.09397276 -1.1774225\n",
      " -0.63601327  0.00637186  0.49627227  0.61770993 -0.5636901   0.08376344\n",
      " -0.5070316  -0.11819512  0.07729461 -0.20816272  0.8108048   0.16040926\n",
      "  0.51051915  0.13892253 -0.5542386   0.04374098  0.3864054  -0.13804339\n",
      " -0.30675215  0.18689425 -0.03681405 -0.12714802 -0.8546685   0.39965227\n",
      "  0.10338285  0.76686585  0.04790445  0.825735    0.76207054  0.0548205\n",
      "  0.7726821   1.0445522  -0.04364577 -0.47346008  0.5431668  -0.12162642]\n",
      "[ 0.06918525  0.95739627  0.1248493   0.41609046  0.03870344 -0.77140063\n",
      "  0.5875308   1.5520527   0.35935417 -0.20422208 -0.11314679 -0.6236326\n",
      " -0.01539359 -0.03163593 -0.5658593  -0.62071925  0.36580405 -0.24656065\n",
      "  0.17055096 -0.34498516 -0.5388793  -0.09882291  0.64532614  0.15691458\n",
      "  0.6779093   0.22050734 -0.5868756  -0.09243139 -0.34004313 -0.6618452\n",
      " -0.02230845 -0.45764327 -0.01756344 -0.13027515 -0.21313676  0.2657134\n",
      "  0.4975498  -0.81804013  0.0509753  -0.2650067  -0.4705367   0.14029092\n",
      "  0.14200576 -0.6880574   0.30336922  0.7789701   0.25958273  0.33765468\n",
      " -0.06887085  0.89047205  0.1201419  -0.0836961  -0.5124443  -0.08547174\n",
      " -0.25056165  0.65004057  0.30441755 -0.06255567  0.18993893 -0.14463769\n",
      " -0.3161816  -0.3702055   0.052826    0.30518192  0.30717123  0.06647433\n",
      " -0.18335906  0.30242333 -0.3055787  -0.21624087 -0.11937489  0.4318727\n",
      "  0.7532734  -0.73594666  0.025952    0.35427123 -0.63498855  0.08144272\n",
      " -0.17445774  0.5621748  -0.27563632 -0.9223572   0.02297761  1.3989146\n",
      "  0.27235585 -0.03171455 -0.4364123   0.15766934  0.6178863   0.09706748\n",
      "  0.4611951  -0.42358634  0.30806828  0.03328623  0.6345371   0.72422075\n",
      "  0.79154927 -0.3872863  -0.39576995  0.489013    0.05528125 -0.15515254\n",
      "  0.51644796  0.14519557  0.26231998 -0.53581804 -0.32092038  0.1120074\n",
      " -0.72345954  0.06938527 -0.8592578  -0.38258296 -0.19979423  0.5112079\n",
      "  0.61025417  0.5136295  -0.14818133 -0.03811558  1.1985817  -0.88588476\n",
      "  0.3663846   0.41888314  0.68228537 -0.09264281 -0.15546845  0.32630563\n",
      "  0.1324172  -0.58422804 -0.223096    0.33361545  0.18194902  0.9159789\n",
      "  0.2537103  -0.81271887  0.29366314  0.20082313 -0.23445605 -0.5369504\n",
      " -0.8618293  -0.65269446  0.20991196 -0.7847178  -0.16263045  0.5620971\n",
      "  0.37658608 -0.3507067  -0.9606113  -0.13115226  0.45044348 -0.5188568\n",
      "  0.09125182 -1.2127776  -0.4830295  -0.3982043  -0.06666157  0.3936428\n",
      " -0.6186525  -0.21361196  0.00791582  0.8323397   0.17943828  0.6312284\n",
      " -0.96398294  0.82913005 -0.56629866  0.20262483 -0.05661223 -0.30286577\n",
      "  0.13756105  1.1415023  -0.3542412  -0.0399591   0.48262787  0.13040148\n",
      " -0.1151711  -0.02895745  0.09747424 -0.74112725 -0.14839564 -0.2596458\n",
      " -0.583617    0.39427215 -0.4106482  -0.5209973  -0.11242931  0.00158781\n",
      "  0.9594584   0.82783455  0.43868247 -0.65616757  0.02692835 -0.08597296\n",
      " -0.9212226   0.02271219  0.15591434 -0.45833707 -0.04522015 -0.5419826\n",
      "  0.3217104  -0.09586094 -0.57337445  0.38059023 -0.04078512 -0.46693772\n",
      " -0.24196945 -0.16249128 -0.3247789   0.27753222  0.00866916 -0.3100229\n",
      "  0.19168451 -0.47270578 -0.39835873 -0.2735889   0.63734835 -0.76975274\n",
      " -0.4181827  -1.3207132  -0.83486575 -0.64829385  0.445416    0.15967721\n",
      " -0.32798347 -0.32609394 -0.31848007 -0.552154    0.22411358  0.01810758\n",
      " -0.69243234  0.18600285  0.49388108 -0.21307926 -0.55849683  0.44266352\n",
      " -0.27110165  0.15091638 -0.14164115  0.3442928   0.19338448 -1.1149282\n",
      "  0.44257483 -0.31001025 -0.6172555   0.12028574  0.06340389 -0.73454094\n",
      "  0.05231352  0.3749745  -0.13564654  0.48500842  0.19841138  0.27556896\n",
      "  0.45691592 -0.23712753 -0.9580039  -0.64263874  0.9530217   0.44907477\n",
      " -1.274416   -0.48895797  0.29799432  0.44338238  0.09724202 -1.1791238\n",
      " -0.6334355   0.00243143  0.49794346  0.6157558  -0.5658535   0.08220709\n",
      " -0.51695806 -0.1316162   0.08120497 -0.21477987  0.8108611   0.15571891\n",
      "  0.5212142   0.13419288 -0.5539842   0.04918917  0.38404655 -0.15056111\n",
      " -0.29767218  0.18084581 -0.03671059 -0.1269299  -0.85197085  0.405782\n",
      "  0.09647486  0.7652923   0.04576151  0.83360624  0.7759644   0.05700582\n",
      "  0.77893984  1.048774   -0.037275   -0.4676088   0.5461109  -0.11611242]\n"
     ]
    }
   ],
   "source": [
    "\n",
    "for word in vocab[:5]:\n",
    "  print(word_vec_dict[word])"
   ]
  },
  {
   "cell_type": "code",
   "execution_count": 75,
   "metadata": {},
   "outputs": [],
   "source": [
    "df['clean_review']=df['review'].apply(clean_reviews)"
   ]
  },
  {
   "cell_type": "code",
   "execution_count": 76,
   "metadata": {},
   "outputs": [
    {
     "name": "stdout",
     "output_type": "stream",
     "text": [
      "455\n"
     ]
    }
   ],
   "source": [
    "maxi=-1\n",
    "for i,rev in enumerate(df['clean_review']):\n",
    "    tokens=rev.split()\n",
    "    if(len(tokens)>maxi):\n",
    "        maxi=len(tokens)\n",
    "print(maxi)"
   ]
  },
  {
   "cell_type": "code",
   "execution_count": 77,
   "metadata": {},
   "outputs": [],
   "source": [
    "tok = Tokenizer()\n",
    "tok.fit_on_texts(df['clean_review'])\n",
    "vocab_size = len(tok.word_index) + 1\n",
    "encd_rev = tok.texts_to_sequences(df['clean_review'])"
   ]
  },
  {
   "cell_type": "code",
   "execution_count": 78,
   "metadata": {},
   "outputs": [],
   "source": [
    "max_rev_len=1565  # max lenght of a review\n",
    "vocab_size = len(tok.word_index) + 1  # total no of words\n",
    "embed_dim=300 # embedding dimension as choosen in word2vec constructor"
   ]
  },
  {
   "cell_type": "code",
   "execution_count": 79,
   "metadata": {},
   "outputs": [
    {
     "data": {
      "text/plain": [
       "(299, 1565)"
      ]
     },
     "execution_count": 79,
     "metadata": {},
     "output_type": "execute_result"
    }
   ],
   "source": [
    "pad_rev= pad_sequences(encd_rev, maxlen=max_rev_len, padding='post')\n",
    "pad_rev.shape "
   ]
  },
  {
   "cell_type": "code",
   "execution_count": 80,
   "metadata": {},
   "outputs": [],
   "source": [
    "embed_matrix=np.zeros(shape=(vocab_size,embed_dim))\n",
    "for word,i in tok.word_index.items():\n",
    "  embed_vector=word_vec_dict.get(word)\n",
    "  if embed_vector is not None:  # word is in the vocabulary learned by the w2v model\n",
    "    embed_matrix[i]=embed_vector"
   ]
  },
  {
   "cell_type": "code",
   "execution_count": 81,
   "metadata": {},
   "outputs": [
    {
     "name": "stdout",
     "output_type": "stream",
     "text": [
      "[ 0.05653781  0.78084302  0.09102517  0.33659336  0.02492869 -0.63183379\n",
      "  0.47118786  1.24981368  0.28339848 -0.16488972 -0.08179015 -0.50740945\n",
      " -0.0123985  -0.01444817 -0.45808718 -0.5109874   0.30070269 -0.20652786\n",
      "  0.13537645 -0.27852017 -0.42502365 -0.07800104  0.52577454  0.12367938\n",
      "  0.54673386  0.17385848 -0.48768422 -0.08152618 -0.27416494 -0.55040282\n",
      " -0.01340769 -0.37257954 -0.00650043 -0.10268549 -0.1696758   0.22505562\n",
      "  0.40403828 -0.6547752   0.03086614 -0.22048157 -0.38893089  0.10818976\n",
      "  0.12516741 -0.55248344  0.24855003  0.64226973  0.20297481  0.27352807\n",
      " -0.0507049   0.72208476  0.09628251 -0.053627   -0.40998846 -0.05571096\n",
      " -0.1939158   0.5284161   0.24927111 -0.05226457  0.14598984 -0.12573306\n",
      " -0.24910277 -0.29560885  0.03448204  0.25589949  0.24580097  0.05857323\n",
      " -0.1568896   0.2441323  -0.24791658 -0.16944148 -0.10013677  0.35049582\n",
      "  0.61903769 -0.5935604   0.02259468  0.28327468 -0.52092409  0.07521256\n",
      " -0.14640166  0.44378629 -0.22287062 -0.7506392   0.01898295  1.13493013\n",
      "  0.22891109 -0.0204636  -0.35922083  0.12964129  0.50919294  0.07649508\n",
      "  0.36922911 -0.33990151  0.24324149  0.02095521  0.51524299  0.59397972\n",
      "  0.62606829 -0.31571549 -0.3287288   0.3878462   0.04688987 -0.13536257\n",
      "  0.41541946  0.11599989  0.21798073 -0.43174985 -0.25965586  0.08414036\n",
      " -0.5798924   0.05974062 -0.69886851 -0.31405565 -0.15540302  0.41444805\n",
      "  0.49298692  0.41161621 -0.13424994 -0.03765537  0.96691203 -0.70560491\n",
      "  0.30278495  0.33989808  0.55446243 -0.07554049 -0.12724027  0.26535526\n",
      "  0.11285163 -0.46758083 -0.18669906  0.26822528  0.15297417  0.74096203\n",
      "  0.2002946  -0.65470272  0.22872476  0.16638243 -0.18737407 -0.43374336\n",
      " -0.70016044 -0.5225563   0.16970131 -0.62662148 -0.13545728  0.4416016\n",
      "  0.29931632 -0.28498921 -0.78315395 -0.11043625  0.36053309 -0.42004612\n",
      "  0.08060733 -0.98031253 -0.38978299 -0.32946554 -0.04651806  0.32270947\n",
      " -0.51257592 -0.17009181 -0.00244852  0.6640712   0.13940068  0.50102216\n",
      " -0.78616983  0.65921402 -0.46560988  0.1589683  -0.06768165 -0.2470457\n",
      "  0.10844091  0.92623687 -0.28574196 -0.02493577  0.4002409   0.10245078\n",
      " -0.09694479 -0.03288495  0.08217353 -0.60468107 -0.1195801  -0.20548682\n",
      " -0.47998795  0.32052249 -0.33854768 -0.42243662 -0.0964424  -0.0056278\n",
      "  0.77516443  0.66700304  0.35177296 -0.53090107  0.02350969 -0.06462372\n",
      " -0.74522722  0.0140938   0.12422089 -0.3675684  -0.04526802 -0.43513972\n",
      "  0.25801259 -0.09162848 -0.46992275  0.30248618 -0.04100563 -0.37581024\n",
      " -0.18732221 -0.1288335  -0.27110979  0.22178878  0.00767724 -0.24650593\n",
      "  0.14415723 -0.38502824 -0.31733978 -0.20546789  0.51312357 -0.63192922\n",
      " -0.34239921 -1.0717566  -0.68043435 -0.51846927  0.35399869  0.12874094\n",
      " -0.27495557 -0.26769948 -0.25027773 -0.44772169  0.18695481  0.01157811\n",
      " -0.57531154  0.15511306  0.40594569 -0.17209305 -0.46076548  0.35942182\n",
      " -0.22272438  0.1269456  -0.11605722  0.27291253  0.1573551  -0.91372865\n",
      "  0.3510775  -0.25309303 -0.50326318  0.08798172  0.04962785 -0.61494797\n",
      "  0.0460149   0.30418572 -0.10695563  0.38792109  0.16235721  0.21814094\n",
      "  0.36426648 -0.18937135 -0.77288461 -0.51738197  0.77563089  0.35283536\n",
      " -1.03867698 -0.40300968  0.2546804   0.36225167  0.07759547 -0.96272957\n",
      " -0.51768255 -0.00208971  0.3923614   0.49081448 -0.45993477  0.07135869\n",
      " -0.40330702 -0.09892482  0.06411517 -0.16706987  0.66239828  0.12560518\n",
      "  0.42391393  0.11189324 -0.456671    0.03530615  0.3204633  -0.11231312\n",
      " -0.25549302  0.15059894 -0.03706537 -0.10199692 -0.70526731  0.33596566\n",
      "  0.07557872  0.62424868  0.04142256  0.68046838  0.63069028  0.04502533\n",
      "  0.6231963   0.85741115 -0.02855629 -0.39150119  0.45201552 -0.10026763]\n"
     ]
    }
   ],
   "source": [
    "print(embed_matrix[14])"
   ]
  },
  {
   "cell_type": "code",
   "execution_count": 82,
   "metadata": {},
   "outputs": [],
   "source": [
    "# prepare train and val sets first\n",
    "Y=keras.utils.to_categorical(df['sentiment'])  # one hot target as required by NN.\n",
    "x_train,x_test,y_train,y_test=train_test_split(pad_rev,Y,test_size=0.20,random_state=42)\n"
   ]
  },
  {
   "cell_type": "code",
   "execution_count": 83,
   "metadata": {},
   "outputs": [],
   "source": [
    "from keras.initializers import Constant\n",
    "from keras.layers import ReLU\n",
    "from keras.layers import Dropout\n",
    "model=Sequential()\n",
    "model.add(Embedding(input_dim=vocab_size,output_dim=embed_dim,input_length=max_rev_len,embeddings_initializer=Constant(embed_matrix)))\n",
    "model.add(LSTM(64,return_sequences=False))\n",
    "model.add(Flatten())\n",
    "model.add(Dense(16,activation='relu'))\n",
    "model.add(Dropout(0.50))\n",
    "model.add(Dropout(0.20))\n",
    "model.add(Dense(2,activation='sigmoid'))"
   ]
  },
  {
   "cell_type": "code",
   "execution_count": 84,
   "metadata": {},
   "outputs": [],
   "source": [
    "from keras.optimizers import RMSprop\n",
    "model.compile(optimizer=\"RMSprop\",loss='binary_crossentropy',metrics=['accuracy'])\n"
   ]
  },
  {
   "cell_type": "code",
   "execution_count": 85,
   "metadata": {},
   "outputs": [],
   "source": [
    "epochs=10\n",
    "batch_size=64"
   ]
  },
  {
   "cell_type": "code",
   "execution_count": 86,
   "metadata": {},
   "outputs": [
    {
     "name": "stdout",
     "output_type": "stream",
     "text": [
      "Epoch 1/10\n"
     ]
    },
    {
     "name": "stdout",
     "output_type": "stream",
     "text": [
      "\u001b[1m4/4\u001b[0m \u001b[32m━━━━━━━━━━━━━━━━━━━━\u001b[0m\u001b[37m\u001b[0m \u001b[1m6s\u001b[0m 731ms/step - accuracy: 0.5726 - loss: 0.6931 - val_accuracy: 0.4667 - val_loss: 0.6934\n",
      "Epoch 2/10\n",
      "\u001b[1m4/4\u001b[0m \u001b[32m━━━━━━━━━━━━━━━━━━━━\u001b[0m\u001b[37m\u001b[0m \u001b[1m2s\u001b[0m 563ms/step - accuracy: 0.5627 - loss: 0.6927 - val_accuracy: 0.4667 - val_loss: 0.6935\n",
      "Epoch 3/10\n",
      "\u001b[1m4/4\u001b[0m \u001b[32m━━━━━━━━━━━━━━━━━━━━\u001b[0m\u001b[37m\u001b[0m \u001b[1m2s\u001b[0m 556ms/step - accuracy: 0.5429 - loss: 0.6927 - val_accuracy: 0.4667 - val_loss: 0.6936\n",
      "Epoch 4/10\n",
      "\u001b[1m4/4\u001b[0m \u001b[32m━━━━━━━━━━━━━━━━━━━━\u001b[0m\u001b[37m\u001b[0m \u001b[1m2s\u001b[0m 560ms/step - accuracy: 0.5663 - loss: 0.6922 - val_accuracy: 0.4667 - val_loss: 0.6938\n",
      "Epoch 5/10\n",
      "\u001b[1m4/4\u001b[0m \u001b[32m━━━━━━━━━━━━━━━━━━━━\u001b[0m\u001b[37m\u001b[0m \u001b[1m2s\u001b[0m 545ms/step - accuracy: 0.5210 - loss: 0.6928 - val_accuracy: 0.4667 - val_loss: 0.6939\n",
      "Epoch 6/10\n",
      "\u001b[1m4/4\u001b[0m \u001b[32m━━━━━━━━━━━━━━━━━━━━\u001b[0m\u001b[37m\u001b[0m \u001b[1m2s\u001b[0m 530ms/step - accuracy: 0.5554 - loss: 0.6920 - val_accuracy: 0.4667 - val_loss: 0.6940\n",
      "Epoch 7/10\n",
      "\u001b[1m4/4\u001b[0m \u001b[32m━━━━━━━━━━━━━━━━━━━━\u001b[0m\u001b[37m\u001b[0m \u001b[1m2s\u001b[0m 542ms/step - accuracy: 0.5637 - loss: 0.6917 - val_accuracy: 0.4667 - val_loss: 0.6941\n",
      "Epoch 8/10\n",
      "\u001b[1m4/4\u001b[0m \u001b[32m━━━━━━━━━━━━━━━━━━━━\u001b[0m\u001b[37m\u001b[0m \u001b[1m2s\u001b[0m 522ms/step - accuracy: 0.5705 - loss: 0.6914 - val_accuracy: 0.4667 - val_loss: 0.6942\n",
      "Epoch 9/10\n",
      "\u001b[1m4/4\u001b[0m \u001b[32m━━━━━━━━━━━━━━━━━━━━\u001b[0m\u001b[37m\u001b[0m \u001b[1m2s\u001b[0m 523ms/step - accuracy: 0.5575 - loss: 0.6916 - val_accuracy: 0.4667 - val_loss: 0.6943\n",
      "Epoch 10/10\n",
      "\u001b[1m4/4\u001b[0m \u001b[32m━━━━━━━━━━━━━━━━━━━━\u001b[0m\u001b[37m\u001b[0m \u001b[1m2s\u001b[0m 548ms/step - accuracy: 0.5591 - loss: 0.6914 - val_accuracy: 0.4667 - val_loss: 0.6944\n"
     ]
    },
    {
     "data": {
      "text/plain": [
       "<keras.src.callbacks.history.History at 0x7b4b4b5e9070>"
      ]
     },
     "execution_count": 86,
     "metadata": {},
     "output_type": "execute_result"
    }
   ],
   "source": [
    "model.fit(x_train,y_train,epochs=epochs,batch_size=batch_size,validation_data=(x_test,y_test))"
   ]
  },
  {
   "cell_type": "code",
   "execution_count": 87,
   "metadata": {},
   "outputs": [
    {
     "name": "stdout",
     "output_type": "stream",
     "text": [
      "\u001b[1m2/2\u001b[0m \u001b[32m━━━━━━━━━━━━━━━━━━━━\u001b[0m\u001b[37m\u001b[0m \u001b[1m0s\u001b[0m 97ms/step - accuracy: 0.4361 - loss: 0.6954\n"
     ]
    },
    {
     "data": {
      "text/plain": [
       "[0.6943997740745544, 0.46666666865348816]"
      ]
     },
     "execution_count": 87,
     "metadata": {},
     "output_type": "execute_result"
    }
   ],
   "source": [
    "model.evaluate(x_test,y_test)"
   ]
  },
  {
   "cell_type": "code",
   "execution_count": 100,
   "metadata": {},
   "outputs": [
    {
     "data": {
      "text/html": [
       "<pre style=\"white-space:pre;overflow-x:auto;line-height:normal;font-family:Menlo,'DejaVu Sans Mono',consolas,'Courier New',monospace\"><span style=\"font-weight: bold\">Model: \"sequential_1\"</span>\n",
       "</pre>\n"
      ],
      "text/plain": [
       "\u001b[1mModel: \"sequential_1\"\u001b[0m\n"
      ]
     },
     "metadata": {},
     "output_type": "display_data"
    },
    {
     "data": {
      "text/html": [
       "<pre style=\"white-space:pre;overflow-x:auto;line-height:normal;font-family:Menlo,'DejaVu Sans Mono',consolas,'Courier New',monospace\">┏━━━━━━━━━━━━━━━━━━━━━━━━━━━━━━━━━┳━━━━━━━━━━━━━━━━━━━━━━━━┳━━━━━━━━━━━━━━━┓\n",
       "┃<span style=\"font-weight: bold\"> Layer (type)                    </span>┃<span style=\"font-weight: bold\"> Output Shape           </span>┃<span style=\"font-weight: bold\">       Param # </span>┃\n",
       "┡━━━━━━━━━━━━━━━━━━━━━━━━━━━━━━━━━╇━━━━━━━━━━━━━━━━━━━━━━━━╇━━━━━━━━━━━━━━━┩\n",
       "│ embedding_1 (<span style=\"color: #0087ff; text-decoration-color: #0087ff\">Embedding</span>)         │ (<span style=\"color: #00d7ff; text-decoration-color: #00d7ff\">None</span>, <span style=\"color: #00af00; text-decoration-color: #00af00\">1565</span>, <span style=\"color: #00af00; text-decoration-color: #00af00\">300</span>)      │     <span style=\"color: #00af00; text-decoration-color: #00af00\">2,493,300</span> │\n",
       "├─────────────────────────────────┼────────────────────────┼───────────────┤\n",
       "│ lstm_1 (<span style=\"color: #0087ff; text-decoration-color: #0087ff\">LSTM</span>)                   │ (<span style=\"color: #00d7ff; text-decoration-color: #00d7ff\">None</span>, <span style=\"color: #00af00; text-decoration-color: #00af00\">64</span>)             │        <span style=\"color: #00af00; text-decoration-color: #00af00\">93,440</span> │\n",
       "├─────────────────────────────────┼────────────────────────┼───────────────┤\n",
       "│ flatten_1 (<span style=\"color: #0087ff; text-decoration-color: #0087ff\">Flatten</span>)             │ (<span style=\"color: #00d7ff; text-decoration-color: #00d7ff\">None</span>, <span style=\"color: #00af00; text-decoration-color: #00af00\">64</span>)             │             <span style=\"color: #00af00; text-decoration-color: #00af00\">0</span> │\n",
       "├─────────────────────────────────┼────────────────────────┼───────────────┤\n",
       "│ dense_2 (<span style=\"color: #0087ff; text-decoration-color: #0087ff\">Dense</span>)                 │ (<span style=\"color: #00d7ff; text-decoration-color: #00d7ff\">None</span>, <span style=\"color: #00af00; text-decoration-color: #00af00\">16</span>)             │         <span style=\"color: #00af00; text-decoration-color: #00af00\">1,040</span> │\n",
       "├─────────────────────────────────┼────────────────────────┼───────────────┤\n",
       "│ dropout_2 (<span style=\"color: #0087ff; text-decoration-color: #0087ff\">Dropout</span>)             │ (<span style=\"color: #00d7ff; text-decoration-color: #00d7ff\">None</span>, <span style=\"color: #00af00; text-decoration-color: #00af00\">16</span>)             │             <span style=\"color: #00af00; text-decoration-color: #00af00\">0</span> │\n",
       "├─────────────────────────────────┼────────────────────────┼───────────────┤\n",
       "│ dropout_3 (<span style=\"color: #0087ff; text-decoration-color: #0087ff\">Dropout</span>)             │ (<span style=\"color: #00d7ff; text-decoration-color: #00d7ff\">None</span>, <span style=\"color: #00af00; text-decoration-color: #00af00\">16</span>)             │             <span style=\"color: #00af00; text-decoration-color: #00af00\">0</span> │\n",
       "├─────────────────────────────────┼────────────────────────┼───────────────┤\n",
       "│ dense_3 (<span style=\"color: #0087ff; text-decoration-color: #0087ff\">Dense</span>)                 │ (<span style=\"color: #00d7ff; text-decoration-color: #00d7ff\">None</span>, <span style=\"color: #00af00; text-decoration-color: #00af00\">2</span>)              │            <span style=\"color: #00af00; text-decoration-color: #00af00\">34</span> │\n",
       "└─────────────────────────────────┴────────────────────────┴───────────────┘\n",
       "</pre>\n"
      ],
      "text/plain": [
       "┏━━━━━━━━━━━━━━━━━━━━━━━━━━━━━━━━━┳━━━━━━━━━━━━━━━━━━━━━━━━┳━━━━━━━━━━━━━━━┓\n",
       "┃\u001b[1m \u001b[0m\u001b[1mLayer (type)                   \u001b[0m\u001b[1m \u001b[0m┃\u001b[1m \u001b[0m\u001b[1mOutput Shape          \u001b[0m\u001b[1m \u001b[0m┃\u001b[1m \u001b[0m\u001b[1m      Param #\u001b[0m\u001b[1m \u001b[0m┃\n",
       "┡━━━━━━━━━━━━━━━━━━━━━━━━━━━━━━━━━╇━━━━━━━━━━━━━━━━━━━━━━━━╇━━━━━━━━━━━━━━━┩\n",
       "│ embedding_1 (\u001b[38;5;33mEmbedding\u001b[0m)         │ (\u001b[38;5;45mNone\u001b[0m, \u001b[38;5;34m1565\u001b[0m, \u001b[38;5;34m300\u001b[0m)      │     \u001b[38;5;34m2,493,300\u001b[0m │\n",
       "├─────────────────────────────────┼────────────────────────┼───────────────┤\n",
       "│ lstm_1 (\u001b[38;5;33mLSTM\u001b[0m)                   │ (\u001b[38;5;45mNone\u001b[0m, \u001b[38;5;34m64\u001b[0m)             │        \u001b[38;5;34m93,440\u001b[0m │\n",
       "├─────────────────────────────────┼────────────────────────┼───────────────┤\n",
       "│ flatten_1 (\u001b[38;5;33mFlatten\u001b[0m)             │ (\u001b[38;5;45mNone\u001b[0m, \u001b[38;5;34m64\u001b[0m)             │             \u001b[38;5;34m0\u001b[0m │\n",
       "├─────────────────────────────────┼────────────────────────┼───────────────┤\n",
       "│ dense_2 (\u001b[38;5;33mDense\u001b[0m)                 │ (\u001b[38;5;45mNone\u001b[0m, \u001b[38;5;34m16\u001b[0m)             │         \u001b[38;5;34m1,040\u001b[0m │\n",
       "├─────────────────────────────────┼────────────────────────┼───────────────┤\n",
       "│ dropout_2 (\u001b[38;5;33mDropout\u001b[0m)             │ (\u001b[38;5;45mNone\u001b[0m, \u001b[38;5;34m16\u001b[0m)             │             \u001b[38;5;34m0\u001b[0m │\n",
       "├─────────────────────────────────┼────────────────────────┼───────────────┤\n",
       "│ dropout_3 (\u001b[38;5;33mDropout\u001b[0m)             │ (\u001b[38;5;45mNone\u001b[0m, \u001b[38;5;34m16\u001b[0m)             │             \u001b[38;5;34m0\u001b[0m │\n",
       "├─────────────────────────────────┼────────────────────────┼───────────────┤\n",
       "│ dense_3 (\u001b[38;5;33mDense\u001b[0m)                 │ (\u001b[38;5;45mNone\u001b[0m, \u001b[38;5;34m2\u001b[0m)              │            \u001b[38;5;34m34\u001b[0m │\n",
       "└─────────────────────────────────┴────────────────────────┴───────────────┘\n"
      ]
     },
     "metadata": {},
     "output_type": "display_data"
    },
    {
     "data": {
      "text/html": [
       "<pre style=\"white-space:pre;overflow-x:auto;line-height:normal;font-family:Menlo,'DejaVu Sans Mono',consolas,'Courier New',monospace\"><span style=\"font-weight: bold\"> Total params: </span><span style=\"color: #00af00; text-decoration-color: #00af00\">5,175,630</span> (19.74 MB)\n",
       "</pre>\n"
      ],
      "text/plain": [
       "\u001b[1m Total params: \u001b[0m\u001b[38;5;34m5,175,630\u001b[0m (19.74 MB)\n"
      ]
     },
     "metadata": {},
     "output_type": "display_data"
    },
    {
     "data": {
      "text/html": [
       "<pre style=\"white-space:pre;overflow-x:auto;line-height:normal;font-family:Menlo,'DejaVu Sans Mono',consolas,'Courier New',monospace\"><span style=\"font-weight: bold\"> Trainable params: </span><span style=\"color: #00af00; text-decoration-color: #00af00\">2,587,814</span> (9.87 MB)\n",
       "</pre>\n"
      ],
      "text/plain": [
       "\u001b[1m Trainable params: \u001b[0m\u001b[38;5;34m2,587,814\u001b[0m (9.87 MB)\n"
      ]
     },
     "metadata": {},
     "output_type": "display_data"
    },
    {
     "data": {
      "text/html": [
       "<pre style=\"white-space:pre;overflow-x:auto;line-height:normal;font-family:Menlo,'DejaVu Sans Mono',consolas,'Courier New',monospace\"><span style=\"font-weight: bold\"> Non-trainable params: </span><span style=\"color: #00af00; text-decoration-color: #00af00\">0</span> (0.00 B)\n",
       "</pre>\n"
      ],
      "text/plain": [
       "\u001b[1m Non-trainable params: \u001b[0m\u001b[38;5;34m0\u001b[0m (0.00 B)\n"
      ]
     },
     "metadata": {},
     "output_type": "display_data"
    },
    {
     "data": {
      "text/html": [
       "<pre style=\"white-space:pre;overflow-x:auto;line-height:normal;font-family:Menlo,'DejaVu Sans Mono',consolas,'Courier New',monospace\"><span style=\"font-weight: bold\"> Optimizer params: </span><span style=\"color: #00af00; text-decoration-color: #00af00\">2,587,816</span> (9.87 MB)\n",
       "</pre>\n"
      ],
      "text/plain": [
       "\u001b[1m Optimizer params: \u001b[0m\u001b[38;5;34m2,587,816\u001b[0m (9.87 MB)\n"
      ]
     },
     "metadata": {},
     "output_type": "display_data"
    }
   ],
   "source": [
    "model.summary()"
   ]
  },
  {
   "cell_type": "code",
   "execution_count": 93,
   "metadata": {},
   "outputs": [
    {
     "name": "stdout",
     "output_type": "stream",
     "text": [
      "\u001b[1m1/1\u001b[0m \u001b[32m━━━━━━━━━━━━━━━━━━━━\u001b[0m\u001b[37m\u001b[0m \u001b[1m0s\u001b[0m 47ms/step\n",
      "\u001b[1m1/1\u001b[0m \u001b[32m━━━━━━━━━━━━━━━━━━━━\u001b[0m\u001b[37m\u001b[0m \u001b[1m0s\u001b[0m 54ms/step\n",
      "Positive\n"
     ]
    }
   ],
   "source": [
    "test_sent=\"i hate this movie\"\n",
    "test_sent=clean_reviews(test_sent)\n",
    "model.predict(pad_sequences(tok.texts_to_sequences([test_sent]),maxlen=max_rev_len,padding='post'))\n",
    "\n",
    "# print label\n",
    "label = ['Negative','Positive']\n",
    "prediction = model.predict(pad_sequences(tok.texts_to_sequences([test_sent]),maxlen=max_rev_len,padding='post'))\n",
    "\n",
    "print(label[np.argmin(prediction[0])])\n",
    "\n"
   ]
  }
 ],
 "metadata": {
  "kernelspec": {
   "display_name": "labenv",
   "language": "python",
   "name": "python3"
  },
  "language_info": {
   "codemirror_mode": {
    "name": "ipython",
    "version": 3
   },
   "file_extension": ".py",
   "mimetype": "text/x-python",
   "name": "python",
   "nbconvert_exporter": "python",
   "pygments_lexer": "ipython3",
   "version": "3.12.1"
  }
 },
 "nbformat": 4,
 "nbformat_minor": 2
}
